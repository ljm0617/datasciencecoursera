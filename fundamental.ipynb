{
  "nbformat": 4,
  "nbformat_minor": 0,
  "metadata": {
    "colab": {
      "name": "fundamental.ipynb",
      "provenance": [],
      "collapsed_sections": [],
      "authorship_tag": "ABX9TyPhzfc1NAuI2rdEQnOKHFpd",
      "include_colab_link": true
    },
    "kernelspec": {
      "name": "python3",
      "display_name": "Python 3"
    }
  },
  "cells": [
    {
      "cell_type": "markdown",
      "metadata": {
        "id": "view-in-github",
        "colab_type": "text"
      },
      "source": [
        "<a href=\"https://colab.research.google.com/github/ljm0617/datasciencecoursera/blob/master/fundamental.ipynb\" target=\"_parent\"><img src=\"https://colab.research.google.com/assets/colab-badge.svg\" alt=\"Open In Colab\"/></a>"
      ]
    },
    {
      "cell_type": "code",
      "metadata": {
        "id": "ykkiJmYzLXgh",
        "outputId": "fa319583-5f57-459c-90c4-99def78bb105",
        "colab": {
          "base_uri": "https://localhost:8080/"
        }
      },
      "source": [
        "print (\"Hello world\")"
      ],
      "execution_count": null,
      "outputs": [
        {
          "output_type": "stream",
          "text": [
            "Hello world\n"
          ],
          "name": "stdout"
        }
      ]
    },
    {
      "cell_type": "markdown",
      "metadata": {
        "id": "bQFo69xiNuJE"
      },
      "source": [
        "simple calculation"
      ]
    },
    {
      "cell_type": "code",
      "metadata": {
        "id": "6cc7K7-KNx7i",
        "outputId": "e5d51b87-6d6d-48d1-855c-98b5fc459877",
        "colab": {
          "base_uri": "https://localhost:8080/"
        }
      },
      "source": [
        "9+3"
      ],
      "execution_count": null,
      "outputs": [
        {
          "output_type": "execute_result",
          "data": {
            "text/plain": [
              "12"
            ]
          },
          "metadata": {
            "tags": []
          },
          "execution_count": 3
        }
      ]
    },
    {
      "cell_type": "code",
      "metadata": {
        "id": "dZIXn7UaOC0o",
        "outputId": "b52c0b4e-9c9a-4601-d682-63ad0ef4d203",
        "colab": {
          "base_uri": "https://localhost:8080/"
        }
      },
      "source": [
        "100*5"
      ],
      "execution_count": null,
      "outputs": [
        {
          "output_type": "execute_result",
          "data": {
            "text/plain": [
              "500"
            ]
          },
          "metadata": {
            "tags": []
          },
          "execution_count": 5
        }
      ]
    },
    {
      "cell_type": "code",
      "metadata": {
        "id": "6rdtigfAOKhV",
        "outputId": "fe7eaebd-320b-43d7-b9bd-df174ba2e6c5",
        "colab": {
          "base_uri": "https://localhost:8080/"
        }
      },
      "source": [
        "-6+5*3"
      ],
      "execution_count": null,
      "outputs": [
        {
          "output_type": "execute_result",
          "data": {
            "text/plain": [
              "9"
            ]
          },
          "metadata": {
            "tags": []
          },
          "execution_count": 6
        }
      ]
    },
    {
      "cell_type": "markdown",
      "metadata": {
        "id": "ROhnKlOxOYDh"
      },
      "source": [
        "activity 1 working with python interactive shell"
      ]
    },
    {
      "cell_type": "code",
      "metadata": {
        "id": "gG0XIGavOk2C",
        "outputId": "617794b7-d340-45e7-ace5-28b78ae39b39",
        "colab": {
          "base_uri": "https://localhost:8080/"
        }
      },
      "source": [
        "print(\"Happy Birthday\")"
      ],
      "execution_count": null,
      "outputs": [
        {
          "output_type": "stream",
          "text": [
            "Happy Birthday\n"
          ],
          "name": "stdout"
        }
      ]
    },
    {
      "cell_type": "code",
      "metadata": {
        "id": "2mld4fPnOtet",
        "outputId": "4e1035dd-b22f-4cb1-9f1a-6f590e04c5cf",
        "colab": {
          "base_uri": "https://localhost:8080/"
        }
      },
      "source": [
        "17+35*2"
      ],
      "execution_count": null,
      "outputs": [
        {
          "output_type": "execute_result",
          "data": {
            "text/plain": [
              "87"
            ]
          },
          "metadata": {
            "tags": []
          },
          "execution_count": 8
        }
      ]
    },
    {
      "cell_type": "code",
      "metadata": {
        "id": "UDnLTp8YO4MX",
        "outputId": "f0aa9641-58eb-4690-e41c-809a01087726",
        "colab": {
          "base_uri": "https://localhost:8080/"
        }
      },
      "source": [
        "print(1,2,3,4,5,6,7,8,9)"
      ],
      "execution_count": null,
      "outputs": [
        {
          "output_type": "stream",
          "text": [
            "1 2 3 4 5 6 7 8 9\n"
          ],
          "name": "stdout"
        }
      ]
    },
    {
      "cell_type": "code",
      "metadata": {
        "id": "G7r3l9ZVQdgn",
        "outputId": "8822f42e-2270-4e88-da06-8f257f2299df",
        "colab": {
          "base_uri": "https://localhost:8080/"
        }
      },
      "source": [
        "print(\"Hello \"*100)"
      ],
      "execution_count": null,
      "outputs": [
        {
          "output_type": "stream",
          "text": [
            "Hello Hello Hello Hello Hello Hello Hello Hello Hello Hello Hello Hello Hello Hello Hello Hello Hello Hello Hello Hello Hello Hello Hello Hello Hello Hello Hello Hello Hello Hello Hello Hello Hello Hello Hello Hello Hello Hello Hello Hello Hello Hello Hello Hello Hello Hello Hello Hello Hello Hello Hello Hello Hello Hello Hello Hello Hello Hello Hello Hello Hello Hello Hello Hello Hello Hello Hello Hello Hello Hello Hello Hello Hello Hello Hello Hello Hello Hello Hello Hello Hello Hello Hello Hello Hello Hello Hello Hello Hello Hello Hello Hello Hello Hello Hello Hello Hello Hello Hello Hello \n"
          ],
          "name": "stdout"
        }
      ]
    },
    {
      "cell_type": "code",
      "metadata": {
        "id": "2HEPC4xGQxrw",
        "outputId": "993c340b-ad23-449a-fdad-29a94c13bf54",
        "colab": {
          "base_uri": "https://localhost:8080/"
        }
      },
      "source": [
        "import sys\n",
        "print(\"This argument was passed to the script\")"
      ],
      "execution_count": null,
      "outputs": [
        {
          "output_type": "stream",
          "text": [
            "This argument was passed to the script\n"
          ],
          "name": "stdout"
        }
      ]
    },
    {
      "cell_type": "markdown",
      "metadata": {
        "id": "73vZFRdyRIgi"
      },
      "source": [
        "import sys imports the sys module that's built into Python into our module. This module provide access to Python interpreter functions. When we call sys.argv[1], we're asking for the first argument that's been passed when running the script. Generally, you can pass as many arguments as you like by separating each argument with a blank space."
      ]
    },
    {
      "cell_type": "code",
      "metadata": {
        "id": "0jWVuPBuR7Lf",
        "outputId": "b500c1d9-6fdb-4f45-85b2-087d63cbd040",
        "colab": {
          "base_uri": "https://localhost:8080/"
        }
      },
      "source": [
        "type(7)"
      ],
      "execution_count": null,
      "outputs": [
        {
          "output_type": "execute_result",
          "data": {
            "text/plain": [
              "int"
            ]
          },
          "metadata": {
            "tags": []
          },
          "execution_count": 15
        }
      ]
    },
    {
      "cell_type": "code",
      "metadata": {
        "id": "R6e5ywL1Sbfl",
        "outputId": "da805dca-88a7-40ae-95c1-594eb27c20d9",
        "colab": {
          "base_uri": "https://localhost:8080/"
        }
      },
      "source": [
        "type('7')"
      ],
      "execution_count": null,
      "outputs": [
        {
          "output_type": "execute_result",
          "data": {
            "text/plain": [
              "str"
            ]
          },
          "metadata": {
            "tags": []
          },
          "execution_count": 16
        }
      ]
    },
    {
      "cell_type": "code",
      "metadata": {
        "id": "P4fb0RJ9SkxV",
        "outputId": "f11cdb14-df38-4ec7-f42f-58c60488b708",
        "colab": {
          "base_uri": "https://localhost:8080/",
          "height": 38
        }
      },
      "source": [
        "str(7)"
      ],
      "execution_count": null,
      "outputs": [
        {
          "output_type": "execute_result",
          "data": {
            "application/vnd.google.colaboratory.intrinsic+json": {
              "type": "string"
            },
            "text/plain": [
              "'7'"
            ]
          },
          "metadata": {
            "tags": []
          },
          "execution_count": 17
        }
      ]
    },
    {
      "cell_type": "code",
      "metadata": {
        "id": "QCI8k8qTTBRl",
        "outputId": "a2f0259a-5976-467e-e9f4-c52429a7f0ca",
        "colab": {
          "base_uri": "https://localhost:8080/"
        }
      },
      "source": [
        "int(\"100\")"
      ],
      "execution_count": null,
      "outputs": [
        {
          "output_type": "execute_result",
          "data": {
            "text/plain": [
              "100"
            ]
          },
          "metadata": {
            "tags": []
          },
          "execution_count": 19
        }
      ]
    },
    {
      "cell_type": "markdown",
      "metadata": {
        "id": "yOlZNAG9Tety"
      },
      "source": [
        "An error occurs if we try converting a string that doesn't contain an integer. Here, the string \"Foobar\" can't be converted because it's a string of letters. \"3.14159\" also fails because it is a float, and not an integer"
      ]
    },
    {
      "cell_type": "code",
      "metadata": {
        "id": "ubMDEW9HTxjF",
        "outputId": "538d4bbe-be7e-418c-cc22-691a5444b4d6",
        "colab": {
          "base_uri": "https://localhost:8080/"
        }
      },
      "source": [
        "number = 7\n",
        "print(number)"
      ],
      "execution_count": null,
      "outputs": [
        {
          "output_type": "stream",
          "text": [
            "7\n"
          ],
          "name": "stdout"
        }
      ]
    },
    {
      "cell_type": "code",
      "metadata": {
        "id": "kadLN_gOUe_I",
        "outputId": "1e01d8c6-bf0b-4be8-ef8a-f36675d3a27b",
        "colab": {
          "base_uri": "https://localhost:8080/"
        }
      },
      "source": [
        "number*5"
      ],
      "execution_count": null,
      "outputs": [
        {
          "output_type": "execute_result",
          "data": {
            "text/plain": [
              "35"
            ]
          },
          "metadata": {
            "tags": []
          },
          "execution_count": 26
        }
      ]
    },
    {
      "cell_type": "code",
      "metadata": {
        "id": "sI1E0zl-UsOJ",
        "outputId": "bef2c89d-c47e-4470-ccc4-df91aa7f95d4",
        "colab": {
          "base_uri": "https://localhost:8080/"
        }
      },
      "source": [
        "number = 22\n",
        "print(number)"
      ],
      "execution_count": null,
      "outputs": [
        {
          "output_type": "stream",
          "text": [
            "22\n"
          ],
          "name": "stdout"
        }
      ]
    },
    {
      "cell_type": "code",
      "metadata": {
        "id": "W5rkuwErU2MQ",
        "outputId": "fa566d6a-0778-499f-ef02-ef5a97c64e17",
        "colab": {
          "base_uri": "https://localhost:8080/"
        }
      },
      "source": [
        "#concatenation\n",
        "text1 = \"I love Python\"\n",
        "print(text1,\"!\"*3)"
      ],
      "execution_count": null,
      "outputs": [
        {
          "output_type": "stream",
          "text": [
            "I love Python !!!\n"
          ],
          "name": "stdout"
        }
      ]
    },
    {
      "cell_type": "code",
      "metadata": {
        "id": "lhJEuZqAVb6K",
        "outputId": "26e9ead0-97f0-4dbd-f132-4413751c2f98",
        "colab": {
          "base_uri": "https://localhost:8080/"
        }
      },
      "source": [
        "#multiple assignment\n",
        "a,b,c = 1,2,3\n",
        "print(a,b,c)"
      ],
      "execution_count": null,
      "outputs": [
        {
          "output_type": "stream",
          "text": [
            "1 2 3\n"
          ],
          "name": "stdout"
        }
      ]
    },
    {
      "cell_type": "markdown",
      "metadata": {
        "id": "NTdIj75jYjW0"
      },
      "source": [
        "Below is a simple example to get user assign variable and program use the variable in calculation and finally print out result."
      ]
    },
    {
      "cell_type": "code",
      "metadata": {
        "id": "UgMso6rDV28V",
        "outputId": "8e93a2f8-584e-4bc0-e27e-90deac41375a",
        "colab": {
          "base_uri": "https://localhost:8080/"
        }
      },
      "source": [
        "#User input always return string. Rmb to convert to numeric for calculation\n",
        "travel_distance = input(\"How far is the distance in KM? \")\n",
        "time_taken = input(\"How long the whole journey take in hour? \")\n",
        "travel_distance_upt = float(travel_distance)\n",
        "time_taken_upt = float(time_taken)\n",
        "speed = travel_distance_upt / time_taken_upt\n",
        "print(\"Diving Speed per KM: \", str(speed), \" km per hour\")\n"
      ],
      "execution_count": null,
      "outputs": [
        {
          "output_type": "stream",
          "text": [
            "How far is the distance in KM? 15.1036\n",
            "How long the whole journey take in hour? 0.35\n",
            "Diving Speed per KM:  43.15314285714286  km per hour\n"
          ],
          "name": "stdout"
        }
      ]
    },
    {
      "cell_type": "markdown",
      "metadata": {
        "id": "z431aKcHaPHl"
      },
      "source": [
        "An identifier can consist of upper and lowercase letters of alphabets, underscores, unicode identifiers and digit 0 to 9"
      ]
    },
    {
      "cell_type": "code",
      "metadata": {
        "id": "Y5Q1Rcv5X3ZG",
        "outputId": "4b8d793c-d6d9-4cd3-f66b-7d48ae0801b6",
        "colab": {
          "base_uri": "https://localhost:8080/"
        }
      },
      "source": [
        "#get help and exit with quit\n",
        "help()"
      ],
      "execution_count": null,
      "outputs": [
        {
          "output_type": "stream",
          "text": [
            "\n",
            "Welcome to Python 3.6's help utility!\n",
            "\n",
            "If this is your first time using Python, you should definitely check out\n",
            "the tutorial on the Internet at https://docs.python.org/3.6/tutorial/.\n",
            "\n",
            "Enter the name of any module, keyword, or topic to get help on writing\n",
            "Python programs and using Python modules.  To quit this help utility and\n",
            "return to the interpreter, just type \"quit\".\n",
            "\n",
            "To get a list of available modules, keywords, symbols, or topics, type\n",
            "\"modules\", \"keywords\", \"symbols\", or \"topics\".  Each module also comes\n",
            "with a one-line summary of what it does; to list the modules whose name\n",
            "or summary contain a given string such as \"spam\", type \"modules spam\".\n",
            "\n",
            "help> keywords \n",
            "\n",
            "Here is a list of the Python keywords.  Enter any keyword to get more help.\n",
            "\n",
            "False               def                 if                  raise\n",
            "None                del                 import              return\n",
            "True                elif                in                  try\n",
            "and                 else                is                  while\n",
            "as                  except              lambda              with\n",
            "assert              finally             nonlocal            yield\n",
            "break               for                 not                 \n",
            "class               from                or                  \n",
            "continue            global              pass                \n",
            "\n",
            "help> quit\n",
            "\n",
            "You are now leaving help and returning to the Python interpreter.\n",
            "If you want to ask for help on a particular object directly from the\n",
            "interpreter, you can type \"help(object)\".  Executing \"help('string')\"\n",
            "has the same effect as typing a particular string at the help> prompt.\n"
          ],
          "name": "stdout"
        }
      ]
    },
    {
      "cell_type": "markdown",
      "metadata": {
        "id": "-3CbJvaGcgXs"
      },
      "source": [
        "Python naming convention\n",
        "1. Make the code easy to read and understand\n",
        "2. Enhance clarity and reduce anbiguity\n",
        "3. Make automated refactoring easier\n",
        "4. Provide additional information about the identifier\n",
        "5. Naming for constants written in capital\n"
      ]
    },
    {
      "cell_type": "markdown",
      "metadata": {
        "id": "dWANNGjAdmrL"
      },
      "source": [
        "Write a script to calculate the area and circumstance of a circle of radius of 7\n"
      ]
    },
    {
      "cell_type": "code",
      "metadata": {
        "id": "y9fKSvXPbiBO",
        "outputId": "dc40e583-4c07-488d-d3a1-04cae8152548",
        "colab": {
          "base_uri": "https://localhost:8080/"
        }
      },
      "source": [
        "r = 7\n",
        "pi = 3.14159\n",
        "area = pi * r**2\n",
        "circumstance = 2 * pi * r\n",
        "print(\"Area is \", area, \"and Circumstance is \", circumstance)"
      ],
      "execution_count": null,
      "outputs": [
        {
          "output_type": "stream",
          "text": [
            "Area is  153.93791 and Circumstance is  43.98226\n"
          ],
          "name": "stdout"
        }
      ]
    },
    {
      "cell_type": "markdown",
      "metadata": {
        "id": "cZkJ38vnfWbz"
      },
      "source": [
        "User input message\n"
      ]
    },
    {
      "cell_type": "code",
      "metadata": {
        "id": "UHo8czRUbL-v",
        "outputId": "d0456179-7537-4a58-ef2b-b0ca8f4c42d4",
        "colab": {
          "base_uri": "https://localhost:8080/"
        }
      },
      "source": [
        "tongue_twitter=input(\"Entee a tongue twittee: \")\n",
        "print(tongue_twitter)"
      ],
      "execution_count": null,
      "outputs": [
        {
          "output_type": "stream",
          "text": [
            "Entee a tongue twittee: US Election 2020\n",
            "US Election 2020\n"
          ],
          "name": "stdout"
        }
      ]
    },
    {
      "cell_type": "code",
      "metadata": {
        "id": "2h7ZbZSGf8TJ",
        "outputId": "cacb240d-7af5-49bb-f08e-068c2b68fba8",
        "colab": {
          "base_uri": "https://localhost:8080/"
        }
      },
      "source": [
        "#find square root\n",
        "number = int(input(\"Find the square root of: \"))\n",
        "print(\"The square root of\", \"is\", number**2)"
      ],
      "execution_count": null,
      "outputs": [
        {
          "output_type": "stream",
          "text": [
            "Find the square root of: 5\n",
            "The square root of is 25\n"
          ],
          "name": "stdout"
        }
      ]
    },
    {
      "cell_type": "code",
      "metadata": {
        "id": "e7JEfJ0-hTYj",
        "outputId": "82281e70-4118-4110-e585-25fa3f5f7063",
        "colab": {
          "base_uri": "https://localhost:8080/"
        }
      },
      "source": [
        "#multiple assignment\n",
        "name,hobby = input(\"What is your name? \"), input(\"What is your hobby? \")\n",
        "print(name,\"likes to\",hobby)\n"
      ],
      "execution_count": null,
      "outputs": [
        {
          "output_type": "stream",
          "text": [
            "What is your name? JM\n",
            "What is your hobby? Jogging\n",
            "JM likes to Jogging\n"
          ],
          "name": "stdout"
        }
      ]
    },
    {
      "cell_type": "markdown",
      "metadata": {
        "id": "MFiUUt9UkWQv"
      },
      "source": [
        "Block and Inline Comments start with a pound sign #"
      ]
    },
    {
      "cell_type": "markdown",
      "metadata": {
        "id": "e_onGqF4kmGf"
      },
      "source": [
        "Documentation Srring or docstring is a literal string used as Python comment. Wrapped within triple quotation marks \"\"\" or '''. They ared used to ducunent modules, functions and class definition."
      ]
    },
    {
      "cell_type": "markdown",
      "metadata": {
        "id": "ajwpkTLhnmP2"
      },
      "source": [
        "Indentation is a block - a group of statements that are meant to be executed together.It's the fundamental aspect of modern orogramming language since flow of control structures."
      ]
    },
    {
      "cell_type": "code",
      "metadata": {
        "id": "djCh_TGSkkg3",
        "outputId": "9efad9dc-875e-4c2a-c968-05e8bffd17d5",
        "colab": {
          "base_uri": "https://localhost:8080/"
        }
      },
      "source": [
        "\"\"\" The script can be called with two integer argument to return sum.\n",
        "Docstring supports multiple line \"\"\"\n",
        "\n",
        "num1 = 5\n",
        "num2 = 6\n",
        "print(num1,\"+\",num2,\"=\",num1+num2)\n"
      ],
      "execution_count": null,
      "outputs": [
        {
          "output_type": "stream",
          "text": [
            "5 + 6 = 11\n"
          ],
          "name": "stdout"
        }
      ]
    },
    {
      "cell_type": "code",
      "metadata": {
        "id": "38-p0_nVc_iM",
        "outputId": "eb6d8230-05ce-49cb-9516-d2b208e3f302",
        "colab": {
          "base_uri": "https://localhost:8080/"
        }
      },
      "source": [
        "#integer can be any whole number, euther positive or negative\n",
        "#Python have no limit to how large an integer can be\n",
        "integer = 48\n",
        "negative_integer = -35\n",
        "print(type(integer))\n",
        "print(type(negative_integer))"
      ],
      "execution_count": 4,
      "outputs": [
        {
          "output_type": "stream",
          "text": [
            "<class 'int'>\n",
            "<class 'int'>\n"
          ],
          "name": "stdout"
        }
      ]
    },
    {
      "cell_type": "code",
      "metadata": {
        "id": "rfXgD8oAehHF",
        "outputId": "2a0ccf51-d1cf-4819-b5a2-5c911bc0d72e",
        "colab": {
          "base_uri": "https://localhost:8080/"
        }
      },
      "source": [
        "#Floating point number or float\n",
        "n = 13.3333\n",
        "print(n)\n",
        "\n",
        "#import built in library math to access different mathematical function and constants.\n",
        "import math\n",
        "print(type(math.pi),math.pi)\n",
        "print(type(math.e),math.e)\n",
        "\n",
        "#convert integer to float\n",
        "float(23)\n"
      ],
      "execution_count": 8,
      "outputs": [
        {
          "output_type": "stream",
          "text": [
            "13.3333\n",
            "<class 'float'> 3.141592653589793\n",
            "<class 'float'> 2.718281828459045\n"
          ],
          "name": "stdout"
        },
        {
          "output_type": "execute_result",
          "data": {
            "text/plain": [
              "23.0"
            ]
          },
          "metadata": {
            "tags": []
          },
          "execution_count": 8
        }
      ]
    },
    {
      "cell_type": "code",
      "metadata": {
        "id": "tDFhZ8y8hHss",
        "outputId": "12eb7927-f2aa-4e4b-9eab-20f07cd13b9a",
        "colab": {
          "base_uri": "https://localhost:8080/"
        }
      },
      "source": [
        "#Altrernative number ststem: binary, hexadecimal and octal number, as opposed to common decimal number system\n",
        "\n",
        "#Binary expressed in base 2, which use only 0S and 1S to represent number\n",
        "#Binary starts with prefix 0b\n",
        "print(\"0b111 equivalent to\", 0b111) \n",
        "print(\"0b10 equivalent to\",0b10) \n",
        "print(\"0b1000 equivalent to\",0b1000) \n",
        "\n",
        "#Hexadecimal numbers expressed in base 16\n",
        "#symbol are 0,1,2,3,4,5,6,7,8.9,a,b,c,d,e,f\n",
        "#Start with prefix 0x.\n",
        "print(\"0xf equivalent to\",0xf)\n",
        "print(\"0x9ac equivalent to\", 0x9ac)\n",
        "print(\"0xaf equivalent to\",0xaf)\n",
        "\n",
        "#Octal number which are base 8\n",
        "#Use 0 to 7 to represent number\n",
        "#start with prefixed 0o\n",
        "print(\"0o20 equivalent to\",0o20 )\n",
        "print(\"0o200 equivalent to\",0o200)\n",
        "print(\"0o113 equivalent to\", 0o113)\n",
        "\n",
        "#Number conversion\n",
        "print(bin(700))\n",
        "print(hex(700))\n",
        "print(oct(700))"
      ],
      "execution_count": 21,
      "outputs": [
        {
          "output_type": "stream",
          "text": [
            "0b111 equivalent to 7\n",
            "0b10 equivalent to 2\n",
            "0b1000 equivalent to 8\n",
            "0xf equivalent to 15\n",
            "0x9ac equivalent to 2476\n",
            "0xaf equivalent to 175\n",
            "0o20 equivalent to 16\n",
            "0o200 equivalent to 128\n",
            "0o113 equivalent to 75\n",
            "0b1010111100\n",
            "0x2bc\n",
            "0o1274\n"
          ],
          "name": "stdout"
        }
      ]
    },
    {
      "cell_type": "code",
      "metadata": {
        "id": "x2i6E9gU2OKJ",
        "outputId": "a873b9d3-61ba-473d-df35-c5925489ec6f",
        "colab": {
          "base_uri": "https://localhost:8080/"
        }
      },
      "source": [
        "number = input(\"Convert to binary: \")\n",
        "\n",
        "#Convert the input to integer\n",
        "integer = int(number)\n",
        "\n",
        "#Convert integer to binary\n",
        "binary = bin(integer)\n",
        "\n",
        "print(binary)"
      ],
      "execution_count": 1,
      "outputs": [
        {
          "output_type": "stream",
          "text": [
            "Convert to binary: 74\n",
            "0b1001010\n"
          ],
          "name": "stdout"
        }
      ]
    },
    {
      "cell_type": "code",
      "metadata": {
        "id": "s2uoUSMG3HX_",
        "outputId": "4db5bc2c-3824-4248-ac1d-b167d376d224",
        "colab": {
          "base_uri": "https://localhost:8080/"
        }
      },
      "source": [
        "#Classic division and floor division\n",
        "\n",
        "print(\"Classic division of 6 / 1.25 :\",6/1.25)\n",
        "print(\"Floor division of 6 // 1.25 :\", 6 // 1.25)\n"
      ],
      "execution_count": 2,
      "outputs": [
        {
          "output_type": "stream",
          "text": [
            "Classic division of 6 / 1.25 : 4.8\n",
            "Floor division of 6 // 1.25 : 4.0\n"
          ],
          "name": "stdout"
        }
      ]
    },
    {
      "cell_type": "code",
      "metadata": {
        "id": "fmwt6KDg4guu",
        "outputId": "c89d4bc3-571d-45f9-c256-6e751795ca80",
        "colab": {
          "base_uri": "https://localhost:8080/"
        }
      },
      "source": [
        "#Assignment operator\n",
        "\"\"\"\n",
        "+=    x+=7     x=x+7\n",
        "-=    x-=7     x=x-7\n",
        "**=   x••=7    x=x**7\n",
        "etc...\n",
        "\"\"\"\n",
        "\n",
        "x = 10\n",
        "x += 1 #equivalent to x = x +1 \n",
        "print(x)"
      ],
      "execution_count": 3,
      "outputs": [
        {
          "output_type": "stream",
          "text": [
            "11\n"
          ],
          "name": "stdout"
        }
      ]
    },
    {
      "cell_type": "code",
      "metadata": {
        "id": "6EHQsS7w5uv9",
        "outputId": "02611ed5-a610-470a-cff8-d88fdf1e2e4f",
        "colab": {
          "base_uri": "https://localhost:8080/",
          "height": 74
        }
      },
      "source": [
        "\"\"\"\n",
        "Order of Operation\n",
        "parenthesis > exponential > \n",
        "multiplication / division >\n",
        "addiition / subtraction\n",
        "\"\"\""
      ],
      "execution_count": 6,
      "outputs": [
        {
          "output_type": "execute_result",
          "data": {
            "application/vnd.google.colaboratory.intrinsic+json": {
              "type": "string"
            },
            "text/plain": [
              "'\\nOrder of Operation\\nparenthesis > exponential > \\nmultiplication / division >\\naddiition / subtraction\\n'"
            ]
          },
          "metadata": {
            "tags": []
          },
          "execution_count": 6
        }
      ]
    },
    {
      "cell_type": "code",
      "metadata": {
        "id": "bMMFWPaq7MYV",
        "outputId": "8d204520-7fa8-4408-c41c-17c6d3dcf79d",
        "colab": {
          "base_uri": "https://localhost:8080/"
        }
      },
      "source": [
        "5*(4-2) + (100 / (5 / 2)*2)"
      ],
      "execution_count": 7,
      "outputs": [
        {
          "output_type": "execute_result",
          "data": {
            "text/plain": [
              "90.0"
            ]
          },
          "metadata": {
            "tags": []
          },
          "execution_count": 7
        }
      ]
    },
    {
      "cell_type": "code",
      "metadata": {
        "id": "n5l1BkCV7q-b",
        "outputId": "502cd627-b85d-4688-db17-0598e7c7109a",
        "colab": {
          "base_uri": "https://localhost:8080/"
        }
      },
      "source": [
        "#Convert to days\n",
        "integer = int(input(\"Give me an whole number: \"))\n",
        "year = integer // 365\n",
        "days = (integer % －365) // 1\n",
        "print(year, \"years\", days, \"days\")\n"
      ],
      "execution_count": 10,
      "outputs": [
        {
          "output_type": "stream",
          "text": [
            "Give me an whole number: 1000\n",
            "2 years 270 days\n"
          ],
          "name": "stdout"
        }
      ]
    },
    {
      "cell_type": "code",
      "metadata": {
        "id": "bBaObJpp9Nkd",
        "outputId": "2bdd9e1d-5bcc-46d3-872f-2eea12761bb5",
        "colab": {
          "base_uri": "https://localhost:8080/",
          "height": 112
        }
      },
      "source": [
        "#String\n",
        "#Multiline : Enclosing character in triple quote\"\n",
        "s = \"\"\"hello\n",
        "world\"\"\"\n",
        "print(s)\n",
        "\n",
        "#Use asterik to repeat character\n",
        "print('Alibaba and the', 'thieves '*20)\n",
        "\n",
        "#Use + operator to concatenate\n",
        "\"I \" + \"love \" + \"Python\" # No space added"
      ],
      "execution_count": 14,
      "outputs": [
        {
          "output_type": "stream",
          "text": [
            "hello\n",
            "world\n",
            "Alibaba and the thieves thieves thieves thieves thieves thieves thieves thieves thieves thieves thieves thieves thieves thieves thieves thieves thieves thieves thieves thieves \n"
          ],
          "name": "stdout"
        },
        {
          "output_type": "execute_result",
          "data": {
            "application/vnd.google.colaboratory.intrinsic+json": {
              "type": "string"
            },
            "text/plain": [
              "'I love Python'"
            ]
          },
          "metadata": {
            "tags": []
          },
          "execution_count": 14
        }
      ]
    },
    {
      "cell_type": "code",
      "metadata": {
        "id": "VTSB434X-tv3",
        "outputId": "36b27014-bee7-4857-eceb-89290d52906e",
        "colab": {
          "base_uri": "https://localhost:8080/"
        }
      },
      "source": [
        "#Indexing in Python\n",
        "s = \"I love Python!\"\n",
        "print(s[0], s[-1], s[5:10], s[-5:-1])\n",
        "print(s[:3], s[3:], s[-4:])"
      ],
      "execution_count": 21,
      "outputs": [
        {
          "output_type": "stream",
          "text": [
            "I ! e Pyt thon\n",
            "I l ove Python! hon!\n"
          ],
          "name": "stdout"
        }
      ]
    },
    {
      "cell_type": "code",
      "metadata": {
        "id": "kKpZdZHFAkye",
        "outputId": "e9c0823c-0377-4a71-9fcd-cb504098e702",
        "colab": {
          "base_uri": "https://localhost:8080/",
          "height": 38
        }
      },
      "source": [
        "\"Living in a silent falm\"[5]"
      ],
      "execution_count": 22,
      "outputs": [
        {
          "output_type": "execute_result",
          "data": {
            "application/vnd.google.colaboratory.intrinsic+json": {
              "type": "string"
            },
            "text/plain": [
              "'g'"
            ]
          },
          "metadata": {
            "tags": []
          },
          "execution_count": 22
        }
      ]
    },
    {
      "cell_type": "code",
      "metadata": {
        "id": "RuLpvWOQ-6OS",
        "outputId": "b095c537-0bc4-4394-81e8-73fe6881aa7b",
        "colab": {
          "base_uri": "https://localhost:8080/",
          "height": 38
        }
      },
      "source": [
        "\"[8,9,100]\"[4]"
      ],
      "execution_count": 23,
      "outputs": [
        {
          "output_type": "execute_result",
          "data": {
            "application/vnd.google.colaboratory.intrinsic+json": {
              "type": "string"
            },
            "text/plain": [
              "','"
            ]
          },
          "metadata": {
            "tags": []
          },
          "execution_count": 23
        }
      ]
    },
    {
      "cell_type": "code",
      "metadata": {
        "id": "KWmL4EjnBGg6",
        "outputId": "1f28d88e-5a32-4ec5-8225-07ffe5d415db",
        "colab": {
          "base_uri": "https://localhost:8080/"
        }
      },
      "source": [
        "question = \"your name\"\n",
        "print(len(question))"
      ],
      "execution_count": 27,
      "outputs": [
        {
          "output_type": "stream",
          "text": [
            "9\n"
          ],
          "name": "stdout"
        }
      ]
    },
    {
      "cell_type": "code",
      "metadata": {
        "id": "S9lzNBqmBmgV",
        "outputId": "9f180b9a-a444-4d97-c0af-21067353f4e7",
        "colab": {
          "base_uri": "https://localhost:8080/",
          "height": 38
        }
      },
      "source": [
        "#String interpolation is the process of evaluating a string that has placeholder\n",
        "#f-strings (formatted string)\n",
        "pie = 3.14\n",
        "f\"i are some {pie} and it was yummmy\"\n"
      ],
      "execution_count": 30,
      "outputs": [
        {
          "output_type": "execute_result",
          "data": {
            "application/vnd.google.colaboratory.intrinsic+json": {
              "type": "string"
            },
            "text/plain": [
              "'i are some 3.14 and it was yummmy'"
            ]
          },
          "metadata": {
            "tags": []
          },
          "execution_count": 30
        }
      ]
    },
    {
      "cell_type": "code",
      "metadata": {
        "id": "fxgGJ0IICrNe",
        "outputId": "b3610de9-6c60-455f-d1a9-c1f10a8e4ab5",
        "colab": {
          "base_uri": "https://localhost:8080/",
          "height": 38
        }
      },
      "source": [
        "number = 7\n",
        "f\"7 + 1: {number + 1}\""
      ],
      "execution_count": 33,
      "outputs": [
        {
          "output_type": "execute_result",
          "data": {
            "application/vnd.google.colaboratory.intrinsic+json": {
              "type": "string"
            },
            "text/plain": [
              "'7 + 1: 8'"
            ]
          },
          "metadata": {
            "tags": []
          },
          "execution_count": 33
        }
      ]
    },
    {
      "cell_type": "code",
      "metadata": {
        "id": "J-zwHsNJn2QF",
        "outputId": "9c2b231b-b836-4c85-8b16-aeed5dc5b447",
        "colab": {
          "base_uri": "https://localhost:8080/",
          "height": 38
        }
      },
      "source": [
        "#str.format() method\n",
        "fruit = \"banana\"\n",
        "\"I love {}\".format(fruit)\n",
        "\n",
        "year = 10\n",
        "age = 40\n",
        "\"in {} years, i will be {}\".format(year,age)"
      ],
      "execution_count": 2,
      "outputs": [
        {
          "output_type": "execute_result",
          "data": {
            "application/vnd.google.colaboratory.intrinsic+json": {
              "type": "string"
            },
            "text/plain": [
              "'in 10 years, i will be 40'"
            ]
          },
          "metadata": {
            "tags": []
          },
          "execution_count": 2
        }
      ]
    },
    {
      "cell_type": "code",
      "metadata": {
        "id": "yLFb4WO9ow3v",
        "outputId": "bc7dcd60-207d-4cff-c1ee-453c7b62288d",
        "colab": {
          "base_uri": "https://localhost:8080/"
        }
      },
      "source": [
        "#string method\n",
        "print(\"capitalize\".capitalize())\n",
        "print(\"LOWER\".lower())\n",
        "print(\"upper\".upper())\n",
        "print(\"startswith\".startswith(\"St\")) #case sensitive\n",
        "print(\"endwith\".endswith(\"th\"))\n",
        "print(\" strip strip \".strip()) #only check for start and end\n",
        "print(\"rip strip strip\".strip(\"rip\"))\n",
        "print(\"replace\".replace(\"ace\",\"ay\"))\n",
        "\n",
        "#help(str) for more info\n"
      ],
      "execution_count": 7,
      "outputs": [
        {
          "output_type": "stream",
          "text": [
            "Capitalize\n",
            "lower\n",
            "UPPER\n",
            "False\n",
            "True\n",
            "strip strip\n",
            " strip st\n",
            "replay\n"
          ],
          "name": "stdout"
        }
      ]
    },
    {
      "cell_type": "code",
      "metadata": {
        "id": "8G7qMySfrtIs",
        "outputId": "b72e4311-ac73-4a46-cd62-60a93bc2d89c",
        "colab": {
          "base_uri": "https://localhost:8080/"
        }
      },
      "source": [
        "#working with string\n",
        "#substrings in a string can be accessed by slicing - index\n",
        "string = input(\"Please enter a line of string: \")\n",
        "last_num_convert = int(input(\"How many last number of characters to be converted? \"))\n",
        "length_used = len(string)-last_num_convert\n",
        "string1 = string[:length_used]\n",
        "string2 = string[length_used:]\n",
        "#print(string1)\n",
        "#print(string2)\n",
        "print(f\"{string1}{string2.upper()}\")"
      ],
      "execution_count": 4,
      "outputs": [
        {
          "output_type": "stream",
          "text": [
            "Please enter a line of string: Hello world\n",
            "How many last number of characters to be converted?3\n",
            "Hello wo\n",
            "rld\n",
            "Hello woRLD\n"
          ],
          "name": "stdout"
        }
      ]
    },
    {
      "cell_type": "code",
      "metadata": {
        "id": "SvvcmvETvU4E",
        "outputId": "9d51ba52-51d2-4963-fd68-c58f0935eada",
        "colab": {
          "base_uri": "https://localhost:8080/"
        }
      },
      "source": [
        "#Escape character backslash\n",
        "print(\"hello\\nworld\") #\\n new line\n",
        "print('what\\'s your name?') #Escape quote, place before quote so they are not interpreted as open or close quote\n",
        "print(\"Try double \\\\\") #Double backslash interpretted as one\n",
        "print(\"hello\\aworld\") #bel\n",
        "print(\"hello\\bworld\") #backspace - delete previous character\n",
        "print(\"hello\\fworld\") #formfeed\n",
        "print(\"hello\\rworld\") #Carriage return - return the string adter \\r only\n",
        "print(\"hello\\tworld\") #horizontal tab\n",
        "print(\"hello\\vworld\") #vertical tab\n"
      ],
      "execution_count": 7,
      "outputs": [
        {
          "output_type": "stream",
          "text": [
            "hello\n",
            "world\n",
            "what's your name?\n",
            "Try double \\\n",
            "hello\u0007world\n",
            "hello\bworld\n",
            "hello\fworld\n",
            "hello hello\rworld\n",
            "hello\tworld\n",
            "hello\u000bworld\n"
          ],
          "name": "stdout"
        }
      ]
    },
    {
      "cell_type": "code",
      "metadata": {
        "id": "xtSQz5Xd3MUY",
        "outputId": "3768b9aa-61f8-40d4-9c72-d35e6e829780",
        "colab": {
          "base_uri": "https://localhost:8080/"
        }
      },
      "source": [
        "#break sentence and print all the world on its own line\n",
        "sentence = input(\"Sentence: \")\n",
        "sentence = sentence.replace(\" \",\"\\n\")\n",
        "print(sentence)\n"
      ],
      "execution_count": 9,
      "outputs": [
        {
          "output_type": "stream",
          "text": [
            "Sentence: Hello world I miss\n",
            "Hello\n",
            "world\n",
            "I\n",
            "miss\n"
          ],
          "name": "stdout"
        }
      ]
    },
    {
      "cell_type": "code",
      "metadata": {
        "id": "bz_Mcv7X37K8",
        "outputId": "074dd90d-69eb-459a-9a0a-c9f8cc9ebb27",
        "colab": {
          "base_uri": "https://localhost:8080/"
        }
      },
      "source": [
        "#count number of specific text\n",
        "string = input(\"Kindly provide a sentence to examine: \")\n",
        "query = input(\"Words to look for: \")\n",
        "string1 = string.strip().lower()\n",
        "string2 = query.lower()\n",
        "count = string1.count(string2)\n",
        "print(count)\n"
      ],
      "execution_count": 14,
      "outputs": [
        {
          "output_type": "stream",
          "text": [
            "Kindly provide a sentence to examine: The house at the\n",
            "Words to look for: The\n",
            "2\n"
          ],
          "name": "stdout"
        }
      ]
    },
    {
      "cell_type": "code",
      "metadata": {
        "id": "6jVCgBy45jWU",
        "outputId": "13d40542-1090-4b26-8929-c8966c1042bf",
        "colab": {
          "base_uri": "https://localhost:8080/"
        }
      },
      "source": [
        "#Python list is heterogeneous, hold different data type\n",
        "#Mutable: can change the value inside of them, adding and removing\n",
        "#Make with comma-separated element, enclosed within square bracket\n",
        "digits = [1,3,5,7,9]\n",
        "print(digits)\n",
        "digit_letters = [1,3,5,\"a\",\"b\",\"c\",[\"list1\",\"list2\"]]\n",
        "print(digit_letters)\n",
        "print(len(digit_letters))\n",
        "\n",
        "#indexing and slicing\n",
        "print(digit_letters[1:-2])\n",
        "\n",
        "#Concatenation\n",
        "print(digits + digit_letters)\n",
        "\n",
        "#mutable\n",
        "digits[3] = 2\n",
        "print(digits)\n",
        "digits.append(6)\n",
        "print(digits)\n",
        "\n",
        "#when assign a list, it point it too an object in memory\n",
        "#if assign another variable to the variable that reference the list, new variable reference the same list in memory\n",
        "#any change made using either references will change the same list\n",
        "digits2 = digits\n",
        "digits2[0] = \"a\"\n",
        "print(digits2)\n",
        "digits2 == digits\n",
        "\n"
      ],
      "execution_count": 25,
      "outputs": [
        {
          "output_type": "stream",
          "text": [
            "[1, 3, 5, 7, 9]\n",
            "[1, 3, 5, 'a', 'b', 'c', ['list1', 'list2']]\n",
            "7\n",
            "[3, 5, 'a', 'b']\n",
            "[1, 3, 5, 7, 9, 1, 3, 5, 'a', 'b', 'c', ['list1', 'list2']]\n",
            "[1, 3, 5, 2, 9]\n",
            "[1, 3, 5, 2, 9, 6]\n",
            "['a', 3, 5, 2, 9, 6]\n"
          ],
          "name": "stdout"
        },
        {
          "output_type": "execute_result",
          "data": {
            "text/plain": [
              "True"
            ]
          },
          "metadata": {
            "tags": []
          },
          "execution_count": 25
        }
      ]
    },
    {
      "cell_type": "code",
      "metadata": {
        "id": "iRfIf6pi6ypr",
        "outputId": "f6d6075a-685b-4635-c1d7-703515c5674e",
        "colab": {
          "base_uri": "https://localhost:8080/"
        }
      },
      "source": [
        "#working with list\n",
        "list1 = [55,12,37,831,57,16,93,44,22]\n",
        "print(list1)\n",
        "n_element = int(input(\"Number of elements to fetch: \"))\n",
        "print(list1[0:n_element])\n",
        "\n"
      ],
      "execution_count": 31,
      "outputs": [
        {
          "output_type": "stream",
          "text": [
            "[55, 12, 37, 831, 57, 16, 93, 44, 22]\n",
            "Number of elements to fetch: 4\n",
            "[55, 12, 37, 831]\n"
          ],
          "name": "stdout"
        }
      ]
    },
    {
      "cell_type": "code",
      "metadata": {
        "id": "m6pjGDkgG6AR",
        "outputId": "6ae4e16f-2059-405a-c00f-9b8c92c3b163",
        "colab": {
          "base_uri": "https://localhost:8080/"
        }
      },
      "source": [
        "#Boolen: True or False\n",
        "fruits = [\"banana\",\"mango\",\"apple\"]\n",
        "want_fruit = True\n",
        "print(len(fruits) > 0 and want_fruit)\n",
        "print(len(fruits) > 0 and not want_fruit)\n",
        "print(len(fruits) > 0 or want_fruit)\n"
      ],
      "execution_count": 33,
      "outputs": [
        {
          "output_type": "stream",
          "text": [
            "True\n",
            "False\n",
            "True\n"
          ],
          "name": "stdout"
        }
      ]
    },
    {
      "cell_type": "code",
      "metadata": {
        "id": "_pPLlaooIwws",
        "outputId": "68000401-1a48-4cd1-a2ae-0e7efc29e53c",
        "colab": {
          "base_uri": "https://localhost:8080/"
        }
      },
      "source": [
        "#Membership operator - in / not in\n",
        "number = [5,6,7]\n",
        "print(3 not in number)\n",
        "\n",
        "string = \"Bla bla black sheep\"\n",
        "print(\"black\" in string)"
      ],
      "execution_count": 35,
      "outputs": [
        {
          "output_type": "stream",
          "text": [
            "True\n",
            "True\n"
          ],
          "name": "stdout"
        }
      ]
    },
    {
      "cell_type": "code",
      "metadata": {
        "id": "k5KP1t7kJXSu",
        "outputId": "59bc66f3-4efd-459b-88ea-0a8c4bf79d7f",
        "colab": {
          "base_uri": "https://localhost:8080/"
        }
      },
      "source": [
        "n = 124\n",
        "if n % 2 == 0:\n",
        "  print(\"Even\")\n",
        "\n",
        "letter = \"b\"\n",
        "if letter not in [\"a\",\"e\",\"i\",\"o\",\"u\"]:\n",
        "  print(f\"{letter} is not a vowel.\")\n",
        "  print(\"{} is not a vowel.\".format(letter))\n"
      ],
      "execution_count": 44,
      "outputs": [
        {
          "output_type": "stream",
          "text": [
            "Even\n",
            "b is not a vowel.\n",
            "b is not a vowel.\n"
          ],
          "name": "stdout"
        }
      ]
    },
    {
      "cell_type": "markdown",
      "metadata": {
        "id": "kuwXlVA8gwSH"
      },
      "source": [
        "Control statement\n",
        "- control program execution flow: if and while\n",
        "- implement branching within looping structure: for and range\n",
        "- a structure in code that conditionally changes the program flow\n"
      ]
    },
    {
      "cell_type": "code",
      "metadata": {
        "id": "LdcOCPF2hQGh",
        "outputId": "ad990f3e-aaae-4093-b312-d960bf3e401c",
        "colab": {
          "base_uri": "https://localhost:8080/"
        }
      },
      "source": [
        "#if statement\n",
        "release_year = '1991'\n",
        "answer = input('when was Python first released? ')\n",
        "if answer == release_year:\n",
        "  print(\"Congratulations. That is correct.\")\n",
        "elif answer > release_year:\n",
        "  print(\"No, that\\'s too late\")\n",
        "else:\n",
        "  print('No, that\\'s too early')\n",
        "\n",
        "print(\"Bye!\")\n",
        "\n",
        "#modify the above\n",
        "answer1 = input(\"Return TRUE or FALSE: Python was released in 1991. \")\n",
        "if answer1 == \"TRUE\":\n",
        "  print(\"Correct\")\n",
        "else:\n",
        "  print(\"Wrong\")\n"
      ],
      "execution_count": 47,
      "outputs": [
        {
          "output_type": "stream",
          "text": [
            "when was Python first released?1991\n",
            "Congratulations. That is correct.\n",
            "Bye!\n",
            "Return TRUE or FALSE: Python was released in 1991TRUE\n",
            "Correct\n"
          ],
          "name": "stdout"
        }
      ]
    },
    {
      "cell_type": "code",
      "metadata": {
        "id": "gQ4u6-oij96b",
        "outputId": "493bb356-9b05-475c-9f1d-e8feddd730e2",
        "colab": {
          "base_uri": "https://localhost:8080/"
        }
      },
      "source": [
        "#While statement allows you to execute a block of code repeatedly\n",
        "#while has associated else clause\n",
        "\n",
        "current = 1\n",
        "end = 10\n",
        "\n",
        "while current <= end:\n",
        "  print(current)\n",
        "  current += 1\n",
        "else:\n",
        "  print(\"You have reached the end.\")\n",
        "  "
      ],
      "execution_count": 49,
      "outputs": [
        {
          "output_type": "stream",
          "text": [
            "1\n",
            "2\n",
            "3\n",
            "4\n",
            "5\n",
            "6\n",
            "7\n",
            "8\n",
            "9\n",
            "10\n",
            "You have reached the end.\n"
          ],
          "name": "stdout"
        }
      ]
    },
    {
      "cell_type": "code",
      "metadata": {
        "id": "0lW2cQkNm8UN",
        "outputId": "051cdf31-b181-466e-e6cc-a55e1145de8a",
        "colab": {
          "base_uri": "https://localhost:8080/"
        }
      },
      "source": [
        "release_year = '1991'\n",
        "correct = False\n",
        "\n",
        "while not correct:\n",
        "  answer = input('When was Python first releases? ')\n",
        "  if answer == release_year:\n",
        "    print('Congratulation! That\\'s correct')\n",
        "    correct = True\n",
        "  else:\n",
        "    print('No, that\\'s not it. Try again\\n')\n",
        "\n",
        "print('Bye!')\n",
        "\n",
        "\n"
      ],
      "execution_count": 50,
      "outputs": [
        {
          "output_type": "stream",
          "text": [
            "When was Python first releases? 1963\n",
            "No, that's not it. Try again\n",
            "\n",
            "When was Python first releases? 19 98\n",
            "No, that's not it. Try again\n",
            "\n",
            "When was Python first releases? 2001\n",
            "No, that's not it. Try again\n",
            "\n",
            "When was Python first releases? 1991\n",
            "Congratulation! That's correct\n",
            "Bye!\n"
          ],
          "name": "stdout"
        }
      ]
    },
    {
      "cell_type": "code",
      "metadata": {
        "id": "tyWI3zU2oMRU",
        "outputId": "797080b8-6000-4ab5-aa58-c404a94d391b",
        "colab": {
          "base_uri": "https://localhost:8080/"
        }
      },
      "source": [
        "#working with while\n",
        "correct = False\n",
        "password = \"abc123\"\n",
        "\n",
        "while not correct:\n",
        "  random = input(\"Please enter your password: \")\n",
        "  if random == password:\n",
        "    print(\"Welcome back user!\")\n",
        "    correct = True\n",
        "  else:\n",
        "    print(\"Invalid password, try again...\\n\")\n",
        "\n",
        "#if statement branch execution of code once based on condition\n",
        "#while run a block of code multiple times as long as a condition evaluates to True\n",
        "#in this sense, while starement can be considered as loop\n"
      ],
      "execution_count": 2,
      "outputs": [
        {
          "output_type": "stream",
          "text": [
            "Please enter your password: An,\n",
            "Invalid password, try again...\n",
            "\n",
            "Please enter your password: abc123\n",
            "Welcome back user!\n"
          ],
          "name": "stdout"
        }
      ]
    },
    {
      "cell_type": "code",
      "metadata": {
        "id": "KStkuQ248Wmp",
        "outputId": "85919d18-957a-4317-9534-68a454802c79",
        "colab": {
          "base_uri": "https://localhost:8080/"
        }
      },
      "source": [
        "#loop is a way to execute a specific ock of code several times\n",
        "#iterable is anything that can be looped over, eg for x in iterable\n",
        "#iterable can be strings, list, dictionary, file\n",
        "#for loop is ran at predetermined number of times while in a while starement, code run arbitary number if times as long as a condition is sarmtisfued\n",
        "\n",
        "numbers = [1,2,3,4,5,6,7,8,9,10]\n",
        "for num in numbers:\n",
        "  square = num * num\n",
        "  print(num,'squared is',square)\n",
        "else: #same as while,this is optional\n",
        "  print(\"The last number was\", num)\n"
      ],
      "execution_count": 7,
      "outputs": [
        {
          "output_type": "stream",
          "text": [
            "1 squared is 1\n",
            "2 squared is 4\n",
            "3 squared is 9\n",
            "4 squared is 16\n",
            "5 squared is 25\n",
            "6 squared is 36\n",
            "7 squared is 49\n",
            "8 squared is 64\n",
            "9 squared is 81\n",
            "10 squared is 100\n",
            "The last number was 10\n"
          ],
          "name": "stdout"
        }
      ]
    },
    {
      "cell_type": "code",
      "metadata": {
        "id": "MX7gvbWe-k_p",
        "outputId": "85a5ee38-7b35-46df-cc8e-b521c73f4288",
        "colab": {
          "base_uri": "https://localhost:8080/"
        }
      },
      "source": [
        "#range([start],stop,[step])\n",
        "#range 10 means 0 to 10 not including 0\n",
        "print(range(10))\n",
        "print(list(range(10)))\n",
        "print(list(range(1,11,2)))\n",
        "\n",
        "for num in list(range(1,11,2)):#same redsult as without list function\n",
        "  squared = num *num\n",
        "  print(f\"{num} squared is {squared}\")\n",
        "\n"
      ],
      "execution_count": 14,
      "outputs": [
        {
          "output_type": "stream",
          "text": [
            "range(0, 10)\n",
            "[0, 1, 2, 3, 4, 5, 6, 7, 8, 9]\n",
            "[1, 3, 5, 7, 9]\n",
            "1 squared is 1\n",
            "3 squared is 9\n",
            "5 squared is 25\n",
            "7 squared is 49\n",
            "9 squared is 81\n"
          ],
          "name": "stdout"
        }
      ]
    },
    {
      "cell_type": "code",
      "metadata": {
        "id": "kQoShZ-XUVTB",
        "outputId": "e18e6b8b-03e3-46c2-c0ec-b7a2b0e80c7d",
        "colab": {
          "base_uri": "https://localhost:8080/"
        }
      },
      "source": [
        "total = 0\n",
        "for num in range(2,101,2):\n",
        "  total = total + num\n",
        "print(total)\n",
        "\n"
      ],
      "execution_count": 15,
      "outputs": [
        {
          "output_type": "stream",
          "text": [
            "2550\n"
          ],
          "name": "stdout"
        }
      ]
    },
    {
      "cell_type": "code",
      "metadata": {
        "id": "zVOyy5IFUVoA",
        "outputId": "bea155ad-2559-478c-bfc2-24a85c5bcfcd",
        "colab": {
          "base_uri": "https://localhost:8080/"
        }
      },
      "source": [
        "#Nesting is the practice of placing loops inside other loop\n",
        "#Use case: To assess data inside a complex data structure\n",
        "\n",
        "groups = [[1,2,3],[4,5,6],[7,8,9]]\n",
        "for group in groups:\n",
        "  for num in group:\n",
        "    square = num*num\n",
        "    print(num,'squared is', square)\n",
        "\n",
        "\n"
      ],
      "execution_count": 17,
      "outputs": [
        {
          "output_type": "stream",
          "text": [
            "1 squared is 1\n",
            "2 squared is 4\n",
            "3 squared is 9\n",
            "4 squared is 16\n",
            "5 squared is 25\n",
            "6 squared is 36\n",
            "7 squared is 49\n",
            "8 squared is 64\n",
            "9 squared is 81\n"
          ],
          "name": "stdout"
        }
      ]
    },
    {
      "cell_type": "code",
      "metadata": {
        "id": "lQ48x9ouWKrg",
        "outputId": "6318fa04-fe51-4e91-d803-709f99811795",
        "colab": {
          "base_uri": "https://localhost:8080/"
        }
      },
      "source": [
        "for even in range(2,12,2):\n",
        "  for odd in range(1,11,2):\n",
        "    print(f\"{even} + {odd} = {even + odd}\")\n",
        "\n",
        "\n",
        "\n"
      ],
      "execution_count": 18,
      "outputs": [
        {
          "output_type": "stream",
          "text": [
            "2 + 1 = 3\n",
            "2 + 3 = 5\n",
            "2 + 5 = 7\n",
            "2 + 7 = 9\n",
            "2 + 9 = 11\n",
            "4 + 1 = 5\n",
            "4 + 3 = 7\n",
            "4 + 5 = 9\n",
            "4 + 7 = 11\n",
            "4 + 9 = 13\n",
            "6 + 1 = 7\n",
            "6 + 3 = 9\n",
            "6 + 5 = 11\n",
            "6 + 7 = 13\n",
            "6 + 9 = 15\n",
            "8 + 1 = 9\n",
            "8 + 3 = 11\n",
            "8 + 5 = 13\n",
            "8 + 7 = 15\n",
            "8 + 9 = 17\n",
            "10 + 1 = 11\n",
            "10 + 3 = 13\n",
            "10 + 5 = 15\n",
            "10 + 7 = 17\n",
            "10 + 9 = 19\n"
          ],
          "name": "stdout"
        }
      ]
    },
    {
      "cell_type": "code",
      "metadata": {
        "id": "3bJgzSifXAmO",
        "outputId": "d24dfbdf-363b-4032-fd32-a79f9a8c3a2a",
        "colab": {
          "base_uri": "https://localhost:8080/"
        }
      },
      "source": [
        "#Breaking rule: break, continue, pass\n",
        "#break statment allow us to exit a loop based on external trigger;\n",
        "#break used in conjunction with if statement\n",
        "for num in range(1,11):\n",
        "  #if number == 4, exit loop\n",
        "  if num == 4:\n",
        "    break\n",
        "  product = num * 2\n",
        "  print(num,\"* 2 =\", product)\n",
        "\n",
        "print(\"Loop completed\")\n"
      ],
      "execution_count": 21,
      "outputs": [
        {
          "output_type": "stream",
          "text": [
            "1 * 2 = 2\n",
            "2 * 2 = 4\n",
            "3 * 2 = 6\n",
            "Loop completed\n"
          ],
          "name": "stdout"
        }
      ]
    },
    {
      "cell_type": "code",
      "metadata": {
        "id": "9tcqWqIEYVeH",
        "outputId": "ed932e1f-69b2-477c-f92b-957428ca7dff",
        "colab": {
          "base_uri": "https://localhost:8080/"
        }
      },
      "source": [
        "#continue statement allow us to skip over the part of a loop where an external condition is triggered, but goes on to complete the rest of the loop.\n",
        "#same as break statement, used in conjunction with conditional if statement\n",
        "for num in range(1,11):\n",
        "  if num == 4:\n",
        "    continue\n",
        "  product = num * 2\n",
        "  print(num, '* 2 =', product)\n",
        "\n",
        "print('Loop completed')\n"
      ],
      "execution_count": 23,
      "outputs": [
        {
          "output_type": "stream",
          "text": [
            "1 * 2 = 2\n",
            "2 * 2 = 4\n",
            "3 * 2 = 6\n",
            "5 * 2 = 10\n",
            "6 * 2 = 12\n",
            "7 * 2 = 14\n",
            "8 * 2 = 16\n",
            "9 * 2 = 18\n",
            "10 * 2 = 20\n",
            "Loop completed\n"
          ],
          "name": "stdout"
        }
      ]
    },
    {
      "cell_type": "code",
      "metadata": {
        "id": "jzUc12sKZj6v",
        "outputId": "f6246239-1508-4cc8-9d98-2789aa35f5aa",
        "colab": {
          "base_uri": "https://localhost:8080/"
        }
      },
      "source": [
        "#pass statement allow us to handke external trigger condition without affecting the execution of loop\n",
        "#same as break and continue, it usually used in conjuction with conditional if statement\n",
        "for num in range(1,11):\n",
        "  if num == 4:\n",
        "    pass\n",
        "  product = num * 2\n",
        "  print(num,'* 2 =', product)\n",
        "\n",
        "print('Loop completed')\n",
        "\n",
        "#Pass simply tells the program proceeds as normal\n",
        "#It's also mostly used as placeholder"
      ],
      "execution_count": 26,
      "outputs": [
        {
          "output_type": "stream",
          "text": [
            "1 * 2 = 2\n",
            "2 * 2 = 4\n",
            "3 * 2 = 6\n",
            "4 * 2 = 8\n",
            "5 * 2 = 10\n",
            "6 * 2 = 12\n",
            "7 * 2 = 14\n",
            "8 * 2 = 16\n",
            "9 * 2 = 18\n",
            "10 * 2 = 20\n",
            "Loop completed\n"
          ],
          "name": "stdout"
        }
      ]
    },
    {
      "cell_type": "code",
      "metadata": {
        "id": "jggGIuWobOD8",
        "outputId": "3d8de301-396b-4667-c30a-44fcf76678df",
        "colab": {
          "base_uri": "https://localhost:8080/"
        }
      },
      "source": [
        "#Breaking out loop activity\n",
        "for num in range(0,200):\n",
        "  if num == 0 or num % 3 != 0:\n",
        "    continue\n",
        "  print(num)\n"
      ],
      "execution_count": 30,
      "outputs": [
        {
          "output_type": "stream",
          "text": [
            "3\n",
            "6\n",
            "9\n",
            "12\n",
            "15\n",
            "18\n",
            "21\n",
            "24\n",
            "27\n",
            "30\n",
            "33\n",
            "36\n",
            "39\n",
            "42\n",
            "45\n",
            "48\n",
            "51\n",
            "54\n",
            "57\n",
            "60\n",
            "63\n",
            "66\n",
            "69\n",
            "72\n",
            "75\n",
            "78\n",
            "81\n",
            "84\n",
            "87\n",
            "90\n",
            "93\n",
            "96\n",
            "99\n",
            "102\n",
            "105\n",
            "108\n",
            "111\n",
            "114\n",
            "117\n",
            "120\n",
            "123\n",
            "126\n",
            "129\n",
            "132\n",
            "135\n",
            "138\n",
            "141\n",
            "144\n",
            "147\n",
            "150\n",
            "153\n",
            "156\n",
            "159\n",
            "162\n",
            "165\n",
            "168\n",
            "171\n",
            "174\n",
            "177\n",
            "180\n",
            "183\n",
            "186\n",
            "189\n",
            "192\n",
            "195\n",
            "198\n"
          ],
          "name": "stdout"
        }
      ]
    },
    {
      "cell_type": "code",
      "metadata": {
        "id": "R2Ba_lH0dI_t",
        "outputId": "f28d319f-543d-4415-8ff3-378d4a3b0eb5",
        "colab": {
          "base_uri": "https://localhost:8080/"
        }
      },
      "source": [
        "#Functions are an easy way to group a few line of code that implement a functionality together\n",
        "#Mini program within bigger problem that implement specific task\n",
        "#Functions: Built-in function, User-defined function, Anonymous function\n",
        "\"\"\" Step to define function\n",
        "1. def follow by function name\n",
        "2. add parameter to the function within parenthesis, end the function definition with full colon:\n",
        "3. write the logic of the function\n",
        "4. use return keyword to return the output of the function. \n",
        "#4 is optional. if return is not included, the function automatically return None\n",
        "\"\"\"\n",
        "\n",
        "def calculate_monthly_average_rainfall(listing):\n",
        "  counter = 0\n",
        "  total = 0\n",
        "  for num in listing:\n",
        "    total += num\n",
        "    counter += 1\n",
        "  avg = total / counter\n",
        "  return avg\n",
        "\n",
        "average = calculate_monthly_average_rainfall(range(11))\n",
        "print(f\"Average is {average}.\")\n",
        "\n",
        "\n"
      ],
      "execution_count": 38,
      "outputs": [
        {
          "output_type": "stream",
          "text": [
            "Average is 5.0.\n"
          ],
          "name": "stdout"
        }
      ]
    },
    {
      "cell_type": "code",
      "metadata": {
        "id": "5U7-Lzk0fXzB",
        "outputId": "819a87f6-6ff1-42af-e694-3fdbd3c83783",
        "colab": {
          "base_uri": "https://localhost:8080/"
        }
      },
      "source": [
        "#local variable is variable defined inside of a function body\n",
        "#global variable is variable defined outside of a function body\n",
        "\n",
        "number = 5\n",
        "\n",
        "def summation(first,second):\n",
        "  total = first + second + number\n",
        "  return total\n",
        "\n",
        "num1, num2 = int(input('What\\'s first number? ')), int(input('What\\'s second number? '))\n",
        "summ = summation(num1,num2)\n",
        "\n",
        "print(f\"The first number we initialized was {number}.\")\n",
        "print(f\"The total after summation is {summ}.\")\n",
        "\n",
        "#take note that we cant call \"total\" variable in print as it's local variable\n"
      ],
      "execution_count": 39,
      "outputs": [
        {
          "output_type": "stream",
          "text": [
            "What's first number? 10\n",
            "What's second number? 20\n",
            "The first number we initialized was 5.\n",
            "The total after summation is 35.\n"
          ],
          "name": "stdout"
        }
      ]
    },
    {
      "cell_type": "code",
      "metadata": {
        "id": "DUp0d86Cluzq",
        "outputId": "90decd5c-a420-4f4e-96b6-206dbc0fbe13",
        "colab": {
          "base_uri": "https://localhost:8080/"
        }
      },
      "source": [
        "#return statement is required if we need to use the result of calling a function for any further processing in your code\n",
        "#below example do not use return\n",
        "\n",
        "def multiplication(num1,num2):\n",
        "  result = num1 * num2\n",
        "  print(f\"{num1} * {num2} get {result}\")\n",
        "\n",
        "multiplication(3,3)\n",
        "print(\"testing\")\n"
      ],
      "execution_count": 42,
      "outputs": [
        {
          "output_type": "stream",
          "text": [
            "3 * 3 get 9\n",
            "testing\n"
          ],
          "name": "stdout"
        }
      ]
    },
    {
      "cell_type": "code",
      "metadata": {
        "id": "rsAj1ZQOnQdi",
        "outputId": "371d4cef-11f9-4c6d-eba6-a74d5da1f499",
        "colab": {
          "base_uri": "https://localhost:8080/",
          "height": 56
        }
      },
      "source": [
        "#most language requires a special function, called main() to tell operating system which code to execute when a program is invoked\n",
        "#not necessary in Python but it's a good and logical way to strymucture a program\n",
        "#before Python interpreter executes our program, it defines a few special variables\n",
        "#eg: __name__ which will automatically set to __main__ if program will be executed by itself, in a standalone fashion\n",
        "#if it's imported by another program, then __name__ will be set to the name of that program\n",
        "#from that we can easily determine whether the program is standalone or is being used by another program as an import\n",
        "\n",
        "def summation(num1,num2):\n",
        "  total = num1 + num2\n",
        "  return total\n",
        "\n",
        "def main():\n",
        "  outer_total = summation(10,20) * 2\n",
        "  print(\"Double the total is \" + str(outer_total))\n",
        "\n",
        "if __name__ == \"__main__\":\n",
        "  main()\n",
        "\n",
        "__name__\n"
      ],
      "execution_count": 47,
      "outputs": [
        {
          "output_type": "stream",
          "text": [
            "Double the total is 60\n"
          ],
          "name": "stdout"
        },
        {
          "output_type": "execute_result",
          "data": {
            "application/vnd.google.colaboratory.intrinsic+json": {
              "type": "string"
            },
            "text/plain": [
              "'__main__'"
            ]
          },
          "metadata": {
            "tags": []
          },
          "execution_count": 47
        }
      ]
    },
    {
      "cell_type": "markdown",
      "metadata": {
        "id": "OSbMabTdsDAw"
      },
      "source": [
        "Function arguments\n",
        "- though parameters are commonly referred to as arguments, argunents are thought of more as the actual values or references assigned to the parameter variable when a function is called at runtime\n",
        "- arguments are to functions as ingredients are to recipe\n",
        "- several types of argument: Required argument, Keyword argument, Default argunent, A variable number of argument\n"
      ]
    },
    {
      "cell_type": "markdown",
      "metadata": {
        "id": "WH6-gZVOuurr"
      },
      "source": [
        "Required argument are argument that have to be present when calling a function\n",
        "- def division(first, second):\n",
        "     return first/second\n",
        "- we need to pass argument first and second for the function to work\n",
        "\n",
        "Keyword argument when it's necessary for all if the parameter in the right order\n",
        "- def division(first,second):\n",
        "     return first/second\n",
        "  quotient = division(second=2,first=10)\n",
        "  print(quotient)\n",
        "\n",
        "Default argument take default value if no argument calue is passed during the function call\n",
        "- assign using assignment operator \"=\"\n",
        "- def division(first,second=2):\n",
        "     return first/second\n",
        "  quotient = division(10)\n",
        "  print(quotient)\n",
        "\n",
        "variable number of arguments when we want to allow a function to receive any number of variable, and process them\n",
        "- use *args\n",
        "- def addition(*args):\n",
        "     total = 0\n",
        "     for i in args\n",
        "         total += i\n",
        "     return total\n",
        "  answer = addition(20,10,5,6)\n",
        "  print(answer)\n",
        "\n",
        "\n"
      ]
    },
    {
      "cell_type": "code",
      "metadata": {
        "id": "Q3IPRB4gxta3",
        "outputId": "2bcb4726-938c-42ca-978a-5f0fc742561d",
        "colab": {
          "base_uri": "https://localhost:8080/"
        }
      },
      "source": [
        "def print_arguments(*args):\n",
        "  for item in args:\n",
        "    if type(item) == int:\n",
        "      continue\n",
        "    print(item)\n",
        "\n",
        "print_arguments(2,3.4,\"s\",1.0)\n"
      ],
      "execution_count": 48,
      "outputs": [
        {
          "output_type": "stream",
          "text": [
            "3.4\n",
            "s\n",
            "1.0\n"
          ],
          "name": "stdout"
        }
      ]
    },
    {
      "cell_type": "code",
      "metadata": {
        "id": "0GtzKCL0d9nF",
        "outputId": "402631ca-c64c-437a-b178-d2deea2420f2",
        "colab": {
          "base_uri": "https://localhost:8080/"
        }
      },
      "source": [
        "#lambda function - anonymous function in Python\n",
        "#don't require to be named in definition\n",
        "#only required where are defined, not to be called in other part of code base\n",
        "#lambda argument_list: expression\n",
        "\n",
        "answer = lambda first,second: first + second\n",
        "print(answer(1,2))\n",
        "\n",
        "#used with map(), reduce() or filter()\n",
        "#map(func,iterable)\n",
        "\n",
        "number = [1,3,5,7,9]\n",
        "squared = []\n",
        "for num in number:\n",
        "  squared.append(num**2)\n",
        "print(squared)\n",
        "\n",
        "squared = map(lambda num: num**2,number)\n",
        "print(list(squared)) #Above will yield map object, we cast this to a list using list function\n"
      ],
      "execution_count": 7,
      "outputs": [
        {
          "output_type": "stream",
          "text": [
            "3\n",
            "[1, 9, 25, 49, 81]\n",
            "[1, 9, 25, 49, 81]\n"
          ],
          "name": "stdout"
        }
      ]
    },
    {
      "cell_type": "code",
      "metadata": {
        "id": "7OY8P-9hg6jl",
        "outputId": "48fdbbc7-405f-4b44-ba73-7378654a9d79",
        "colab": {
          "base_uri": "https://localhost:8080/"
        }
      },
      "source": [
        "answer = lambda number,power: number**power\n",
        "print(answer(2,4))\n"
      ],
      "execution_count": 9,
      "outputs": [
        {
          "output_type": "stream",
          "text": [
            "16\n"
          ],
          "name": "stdout"
        }
      ]
    },
    {
      "cell_type": "markdown",
      "metadata": {
        "id": "iQ6Oaf4BhnUT"
      },
      "source": [
        "List and Tuple\n",
        "\n",
        "- list are also known as array in other programming\n",
        "- unlike other programming, list in python not necessary be same data type\n",
        "- properties: they are ordered, contain object of arbitrary type, element of a list can be assessed by index, have variable size, mutable\n",
        "\n",
        "- tuple used to multiple related object\n",
        "- similar to list but they aren't mutable\n",
        "\n",
        "\n",
        "\n",
        "\n"
      ]
    },
    {
      "cell_type": "code",
      "metadata": {
        "id": "CA-qpV2Wi9io",
        "outputId": "f6671777-790c-4e27-9652-2548a8159858",
        "colab": {
          "base_uri": "https://localhost:8080/"
        }
      },
      "source": [
        "#list syntax []\n",
        "#list method\n",
        "list1 = []\n",
        "list1.append(5)\n",
        "list1.extend(\"12345\")\n",
        "print(list1)\n",
        "\n",
        "list1.insert(0,\"a\")\n",
        "list1.remove(5)\n",
        "list1.pop(1)\n",
        "print(list1)\n",
        "print(list1[1])\n",
        "\n",
        "list1.clear() #del a[:]\n",
        "list1.extend(\"13579131517\")\n",
        "list1.index(\"5\")\n",
        "print(list1)\n",
        "list1.count(\"3\")\n",
        "list1.sort(key= None,reverse=True)\n",
        "print(list1)\n",
        "list1.copy()\n",
        "\n",
        "\n",
        "\n",
        "\n"
      ],
      "execution_count": 39,
      "outputs": [
        {
          "output_type": "stream",
          "text": [
            "[5, '1', '2', '3', '4', '5']\n",
            "['a', '2', '3', '4', '5']\n",
            "2\n",
            "['1', '3', '5', '7', '9', '1', '3', '1', '5', '1', '7']\n",
            "['9', '7', '7', '5', '5', '3', '3', '1', '1', '1', '1']\n"
          ],
          "name": "stdout"
        },
        {
          "output_type": "execute_result",
          "data": {
            "text/plain": [
              "['9', '7', '7', '5', '5', '3', '3', '1', '1', '1', '1']"
            ]
          },
          "metadata": {
            "tags": []
          },
          "execution_count": 39
        }
      ]
    },
    {
      "cell_type": "code",
      "metadata": {
        "id": "XuRf7GkLfrKW",
        "outputId": "a5e36ce3-b2b8-4338-c169-4aa737de34af",
        "colab": {
          "base_uri": "https://localhost:8080/"
        }
      },
      "source": [
        "wild = [\"lion\",\"zebra\",\"panther\",\"antelope\"]\n",
        "animal = []\n",
        "animal.extend(wild)\n",
        "animal.insert(2,\"cheetah\")\n",
        "animal.pop(1)\n",
        "animal.insert(1,\"giraffe\")\n",
        "animal.sort(key=None,reverse=False)\n",
        "print(animal)\n"
      ],
      "execution_count": 44,
      "outputs": [
        {
          "output_type": "stream",
          "text": [
            "['antelope', 'cheetah', 'giraffe', 'lion', 'panther']\n"
          ],
          "name": "stdout"
        }
      ]
    },
    {
      "cell_type": "code",
      "metadata": {
        "id": "J5mqOpr6pBNz",
        "outputId": "c7c9e5ad-b13d-490c-a0c5-0df3c6c05432",
        "colab": {
          "base_uri": "https://localhost:8080/"
        }
      },
      "source": [
        "#list comprehensions\n",
        "#use case: to create a list when each element is the result of some operations applied to each member of another sequence or iterabke object\n",
        "#syntax: consist of square bracket, followed by for clause, then zero or more if clause\n",
        "#lambda arguments1,arguments2: expression\n",
        "#[expression for if]\n",
        "squared1 = [num**2 for num in range(1,11)]\n",
        "squared2 = map(lambda num: num**2, range(1,11))\n",
        "print(squared1)\n",
        "print(list(squared2))\n",
        "print(list(squared2)) #immediately turn into empty list\n",
        "squared3 = map(lambda num: num**2,range(1,11))\n",
        "squared3_list = list(squared3)\n",
        "print(squared3_list)\n",
        "print(squared3_list)\n",
        "print(squared1 == squared3_list)\n",
        "\n",
        "squared4 = [num**2 for num in range(1,11) if num%2 == 0]\n",
        "print(squared4)\n",
        "\n",
        "squared5 = map(lambda num: num**2 if num%2 == 0 else None, range(1,11))\n",
        "print(list(squared5))\n"
      ],
      "execution_count": 7,
      "outputs": [
        {
          "output_type": "stream",
          "text": [
            "[1, 4, 9, 16, 25, 36, 49, 64, 81, 100]\n",
            "[1, 4, 9, 16, 25, 36, 49, 64, 81, 100]\n",
            "[]\n",
            "[1, 4, 9, 16, 25, 36, 49, 64, 81, 100]\n",
            "[1, 4, 9, 16, 25, 36, 49, 64, 81, 100]\n",
            "True\n",
            "[4, 16, 36, 64, 100]\n",
            "[None, 4, None, 16, None, 36, None, 64, None, 100]\n"
          ],
          "name": "stdout"
        }
      ]
    },
    {
      "cell_type": "code",
      "metadata": {
        "id": "jlpI7QWM1Rbv",
        "outputId": "469bf88f-872f-4d91-bf1c-0a81b895e93d",
        "colab": {
          "base_uri": "https://localhost:8080/"
        }
      },
      "source": [
        "#tuple syntax\n",
        "\"\"\"\n",
        "advantage using tupid rather than list\n",
        "- better suited for use with diffferent data type\n",
        "- key for dictionary\n",
        "- iterating much fasrer  over list\n",
        "- passing around data you don't want to change\n",
        "\"\"\"\n",
        "#consist of a number of individual values, separated by comma\n",
        "#values within parenthesus, not square bracket for list\n",
        "\n",
        "pets = (\"dog\",\"cat\")\n",
        "print(type(pets))\n",
        "\n",
        "pets2 = pets,\"parrot\" #nested tuple\n",
        "print(type(pets2))\n",
        "print(pets2)\n",
        "\n",
        "\n"
      ],
      "execution_count": 10,
      "outputs": [
        {
          "output_type": "stream",
          "text": [
            "<class 'tuple'>\n",
            "<class 'tuple'>\n",
            "(('dog', 'cat'), 'parrot')\n"
          ],
          "name": "stdout"
        }
      ]
    },
    {
      "cell_type": "code",
      "metadata": {
        "id": "WlihyGss6pQn",
        "outputId": "cc5fc13f-b24c-4a78-a68c-c58834699e06",
        "colab": {
          "base_uri": "https://localhost:8080/"
        }
      },
      "source": [
        "vehicle = (\"Toyota\",\"BMW\",\"Benz\")\n",
        "print(type(vehicle))\n",
        "\n",
        "#indexing and slicing tuple \n",
        "pets = (\"dog\",\"cat\",\"parrot\")\n",
        "print(pets[0])\n",
        "print(pets[1:])\n",
        "\n",
        "number = (1,2,3,4,5,6,7,8,9,10)\n",
        "odd = number[::2] #last digit is step\n",
        "print(odd)\n",
        "even = number[1::2]\n",
        "print(even)\n",
        "\n",
        "#list comprehension [expression for if]\n",
        "number_tuple = tuple([i for i in range(1,11)])  #convert resulting list to tuple\n",
        "number_list = [i for i in range(1,11)]\n",
        "\n",
        "print(number_tuple)\n",
        "print(number_list)\n",
        "\n"
      ],
      "execution_count": 17,
      "outputs": [
        {
          "output_type": "stream",
          "text": [
            "<class 'tuple'>\n",
            "dog\n",
            "('cat', 'parrot')\n",
            "(1, 3, 5, 7, 9)\n",
            "(2, 4, 6, 8, 10)\n",
            "(1, 2, 3, 4, 5, 6, 7, 8, 9, 10)\n",
            "[1, 2, 3, 4, 5, 6, 7, 8, 9, 10]\n"
          ],
          "name": "stdout"
        }
      ]
    },
    {
      "cell_type": "code",
      "metadata": {
        "id": "_sMMakfR9tds",
        "outputId": "4bc9969c-9d58-4b21-d430-255fd6b7aae0",
        "colab": {
          "base_uri": "https://localhost:8080/"
        }
      },
      "source": [
        "#tuple method\n",
        "pets = (\"cat\",\"dog\",\"horse\")\n",
        "print(any(pets)) #to check whether any element in tuple is iterable\n",
        "print(pets.count(\"cat\"))\n",
        "print(min(pets))\n",
        "print(max(pets))\n",
        "print(len(pets))\n",
        "print(pets+pets)\n",
        "#tuple doesn't support assignment, append, extend etc as it's immutable\n",
        "\n",
        "pets = (\"cat\",\"cat\",\"cat\",\"dog\",\"horse\")\n",
        "c = pets.count(\"cat\")\n",
        "d = pets.count(\"dog\")\n",
        "\n",
        "if c > 2*d:\n",
        "  print(\"There're too many cats here\")\n",
        "else:\n",
        "  print(\"Everything is good\")\n"
      ],
      "execution_count": 26,
      "outputs": [
        {
          "output_type": "stream",
          "text": [
            "True\n",
            "1\n",
            "cat\n",
            "horse\n",
            "3\n",
            "('cat', 'dog', 'horse', 'cat', 'dog', 'horse')\n",
            "There're too many cats here\n"
          ],
          "name": "stdout"
        }
      ]
    }
  ]
}