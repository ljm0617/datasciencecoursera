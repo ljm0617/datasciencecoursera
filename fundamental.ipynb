{
  "nbformat": 4,
  "nbformat_minor": 0,
  "metadata": {
    "colab": {
      "name": "fundamental.ipynb",
      "provenance": [],
      "authorship_tag": "ABX9TyNo8BF7g78BRVneMtloTAr7",
      "include_colab_link": true
    },
    "kernelspec": {
      "name": "python3",
      "display_name": "Python 3"
    }
  },
  "cells": [
    {
      "cell_type": "markdown",
      "metadata": {
        "id": "view-in-github",
        "colab_type": "text"
      },
      "source": [
        "<a href=\"https://colab.research.google.com/github/ljm0617/datasciencecoursera/blob/master/fundamental.ipynb\" target=\"_parent\"><img src=\"https://colab.research.google.com/assets/colab-badge.svg\" alt=\"Open In Colab\"/></a>"
      ]
    },
    {
      "cell_type": "code",
      "metadata": {
        "id": "ykkiJmYzLXgh",
        "outputId": "fa319583-5f57-459c-90c4-99def78bb105",
        "colab": {
          "base_uri": "https://localhost:8080/"
        }
      },
      "source": [
        "print (\"Hello world\")"
      ],
      "execution_count": 1,
      "outputs": [
        {
          "output_type": "stream",
          "text": [
            "Hello world\n"
          ],
          "name": "stdout"
        }
      ]
    },
    {
      "cell_type": "markdown",
      "metadata": {
        "id": "bQFo69xiNuJE"
      },
      "source": [
        "simple calculation"
      ]
    },
    {
      "cell_type": "code",
      "metadata": {
        "id": "6cc7K7-KNx7i",
        "outputId": "e5d51b87-6d6d-48d1-855c-98b5fc459877",
        "colab": {
          "base_uri": "https://localhost:8080/"
        }
      },
      "source": [
        "9+3"
      ],
      "execution_count": 3,
      "outputs": [
        {
          "output_type": "execute_result",
          "data": {
            "text/plain": [
              "12"
            ]
          },
          "metadata": {
            "tags": []
          },
          "execution_count": 3
        }
      ]
    },
    {
      "cell_type": "code",
      "metadata": {
        "id": "dZIXn7UaOC0o",
        "outputId": "b52c0b4e-9c9a-4601-d682-63ad0ef4d203",
        "colab": {
          "base_uri": "https://localhost:8080/"
        }
      },
      "source": [
        "100*5"
      ],
      "execution_count": 5,
      "outputs": [
        {
          "output_type": "execute_result",
          "data": {
            "text/plain": [
              "500"
            ]
          },
          "metadata": {
            "tags": []
          },
          "execution_count": 5
        }
      ]
    },
    {
      "cell_type": "code",
      "metadata": {
        "id": "6rdtigfAOKhV",
        "outputId": "fe7eaebd-320b-43d7-b9bd-df174ba2e6c5",
        "colab": {
          "base_uri": "https://localhost:8080/"
        }
      },
      "source": [
        "-6+5*3"
      ],
      "execution_count": 6,
      "outputs": [
        {
          "output_type": "execute_result",
          "data": {
            "text/plain": [
              "9"
            ]
          },
          "metadata": {
            "tags": []
          },
          "execution_count": 6
        }
      ]
    },
    {
      "cell_type": "markdown",
      "metadata": {
        "id": "ROhnKlOxOYDh"
      },
      "source": [
        "activity 1 working with python interactive shell"
      ]
    },
    {
      "cell_type": "code",
      "metadata": {
        "id": "gG0XIGavOk2C",
        "outputId": "617794b7-d340-45e7-ace5-28b78ae39b39",
        "colab": {
          "base_uri": "https://localhost:8080/"
        }
      },
      "source": [
        "print(\"Happy Birthday\")"
      ],
      "execution_count": 7,
      "outputs": [
        {
          "output_type": "stream",
          "text": [
            "Happy Birthday\n"
          ],
          "name": "stdout"
        }
      ]
    },
    {
      "cell_type": "code",
      "metadata": {
        "id": "2mld4fPnOtet",
        "outputId": "4e1035dd-b22f-4cb1-9f1a-6f590e04c5cf",
        "colab": {
          "base_uri": "https://localhost:8080/"
        }
      },
      "source": [
        "17+35*2"
      ],
      "execution_count": 8,
      "outputs": [
        {
          "output_type": "execute_result",
          "data": {
            "text/plain": [
              "87"
            ]
          },
          "metadata": {
            "tags": []
          },
          "execution_count": 8
        }
      ]
    },
    {
      "cell_type": "code",
      "metadata": {
        "id": "UDnLTp8YO4MX",
        "outputId": "f0aa9641-58eb-4690-e41c-809a01087726",
        "colab": {
          "base_uri": "https://localhost:8080/"
        }
      },
      "source": [
        "print(1,2,3,4,5,6,7,8,9)"
      ],
      "execution_count": 12,
      "outputs": [
        {
          "output_type": "stream",
          "text": [
            "1 2 3 4 5 6 7 8 9\n"
          ],
          "name": "stdout"
        }
      ]
    },
    {
      "cell_type": "code",
      "metadata": {
        "id": "G7r3l9ZVQdgn",
        "outputId": "8822f42e-2270-4e88-da06-8f257f2299df",
        "colab": {
          "base_uri": "https://localhost:8080/"
        }
      },
      "source": [
        "print(\"Hello \"*100)"
      ],
      "execution_count": 13,
      "outputs": [
        {
          "output_type": "stream",
          "text": [
            "Hello Hello Hello Hello Hello Hello Hello Hello Hello Hello Hello Hello Hello Hello Hello Hello Hello Hello Hello Hello Hello Hello Hello Hello Hello Hello Hello Hello Hello Hello Hello Hello Hello Hello Hello Hello Hello Hello Hello Hello Hello Hello Hello Hello Hello Hello Hello Hello Hello Hello Hello Hello Hello Hello Hello Hello Hello Hello Hello Hello Hello Hello Hello Hello Hello Hello Hello Hello Hello Hello Hello Hello Hello Hello Hello Hello Hello Hello Hello Hello Hello Hello Hello Hello Hello Hello Hello Hello Hello Hello Hello Hello Hello Hello Hello Hello Hello Hello Hello Hello \n"
          ],
          "name": "stdout"
        }
      ]
    },
    {
      "cell_type": "code",
      "metadata": {
        "id": "2HEPC4xGQxrw",
        "outputId": "993c340b-ad23-449a-fdad-29a94c13bf54",
        "colab": {
          "base_uri": "https://localhost:8080/"
        }
      },
      "source": [
        "import sys\n",
        "print(\"This argument was passed to the script\")"
      ],
      "execution_count": 14,
      "outputs": [
        {
          "output_type": "stream",
          "text": [
            "This argument was passed to the script\n"
          ],
          "name": "stdout"
        }
      ]
    },
    {
      "cell_type": "markdown",
      "metadata": {
        "id": "73vZFRdyRIgi"
      },
      "source": [
        "import sys imports the sys module that's built into Python into our module. This module provide access to Python interpreter functions. When we call sys.argv[1], we're asking for the first argument that's been passed when running the script. Generally, you can pass as many arguments as you like by separating each argument with a blank space."
      ]
    },
    {
      "cell_type": "code",
      "metadata": {
        "id": "0jWVuPBuR7Lf",
        "outputId": "b500c1d9-6fdb-4f45-85b2-087d63cbd040",
        "colab": {
          "base_uri": "https://localhost:8080/"
        }
      },
      "source": [
        "type(7)"
      ],
      "execution_count": 15,
      "outputs": [
        {
          "output_type": "execute_result",
          "data": {
            "text/plain": [
              "int"
            ]
          },
          "metadata": {
            "tags": []
          },
          "execution_count": 15
        }
      ]
    },
    {
      "cell_type": "code",
      "metadata": {
        "id": "R6e5ywL1Sbfl",
        "outputId": "da805dca-88a7-40ae-95c1-594eb27c20d9",
        "colab": {
          "base_uri": "https://localhost:8080/"
        }
      },
      "source": [
        "type('7')"
      ],
      "execution_count": 16,
      "outputs": [
        {
          "output_type": "execute_result",
          "data": {
            "text/plain": [
              "str"
            ]
          },
          "metadata": {
            "tags": []
          },
          "execution_count": 16
        }
      ]
    },
    {
      "cell_type": "code",
      "metadata": {
        "id": "P4fb0RJ9SkxV",
        "outputId": "f11cdb14-df38-4ec7-f42f-58c60488b708",
        "colab": {
          "base_uri": "https://localhost:8080/",
          "height": 38
        }
      },
      "source": [
        "str(7)"
      ],
      "execution_count": 17,
      "outputs": [
        {
          "output_type": "execute_result",
          "data": {
            "application/vnd.google.colaboratory.intrinsic+json": {
              "type": "string"
            },
            "text/plain": [
              "'7'"
            ]
          },
          "metadata": {
            "tags": []
          },
          "execution_count": 17
        }
      ]
    },
    {
      "cell_type": "code",
      "metadata": {
        "id": "QCI8k8qTTBRl",
        "outputId": "a2f0259a-5976-467e-e9f4-c52429a7f0ca",
        "colab": {
          "base_uri": "https://localhost:8080/"
        }
      },
      "source": [
        "int(\"100\")"
      ],
      "execution_count": 19,
      "outputs": [
        {
          "output_type": "execute_result",
          "data": {
            "text/plain": [
              "100"
            ]
          },
          "metadata": {
            "tags": []
          },
          "execution_count": 19
        }
      ]
    },
    {
      "cell_type": "markdown",
      "metadata": {
        "id": "yOlZNAG9Tety"
      },
      "source": [
        "An error occurs if we try converting a string that doesn't contain an integer. Here, the string \"Foobar\" can't be converted because it's a string of letters. \"3.14159\" also fails because it is a float, and not an integer"
      ]
    },
    {
      "cell_type": "code",
      "metadata": {
        "id": "ubMDEW9HTxjF",
        "outputId": "538d4bbe-be7e-418c-cc22-691a5444b4d6",
        "colab": {
          "base_uri": "https://localhost:8080/"
        }
      },
      "source": [
        "number = 7\n",
        "print(number)"
      ],
      "execution_count": 25,
      "outputs": [
        {
          "output_type": "stream",
          "text": [
            "7\n"
          ],
          "name": "stdout"
        }
      ]
    },
    {
      "cell_type": "code",
      "metadata": {
        "id": "kadLN_gOUe_I",
        "outputId": "1e01d8c6-bf0b-4be8-ef8a-f36675d3a27b",
        "colab": {
          "base_uri": "https://localhost:8080/"
        }
      },
      "source": [
        "number*5"
      ],
      "execution_count": 26,
      "outputs": [
        {
          "output_type": "execute_result",
          "data": {
            "text/plain": [
              "35"
            ]
          },
          "metadata": {
            "tags": []
          },
          "execution_count": 26
        }
      ]
    },
    {
      "cell_type": "code",
      "metadata": {
        "id": "sI1E0zl-UsOJ",
        "outputId": "bef2c89d-c47e-4470-ccc4-df91aa7f95d4",
        "colab": {
          "base_uri": "https://localhost:8080/"
        }
      },
      "source": [
        "number = 22\n",
        "print(number)"
      ],
      "execution_count": 27,
      "outputs": [
        {
          "output_type": "stream",
          "text": [
            "22\n"
          ],
          "name": "stdout"
        }
      ]
    },
    {
      "cell_type": "code",
      "metadata": {
        "id": "W5rkuwErU2MQ",
        "outputId": "fa566d6a-0778-499f-ef02-ef5a97c64e17",
        "colab": {
          "base_uri": "https://localhost:8080/"
        }
      },
      "source": [
        "#concatenation\n",
        "text1 = \"I love Python\"\n",
        "print(text1,\"!\"*3)"
      ],
      "execution_count": 32,
      "outputs": [
        {
          "output_type": "stream",
          "text": [
            "I love Python !!!\n"
          ],
          "name": "stdout"
        }
      ]
    },
    {
      "cell_type": "code",
      "metadata": {
        "id": "lhJEuZqAVb6K",
        "outputId": "26e9ead0-97f0-4dbd-f132-4413751c2f98",
        "colab": {
          "base_uri": "https://localhost:8080/"
        }
      },
      "source": [
        "#multiple assignment\n",
        "a,b,c = 1,2,3\n",
        "print(a,b,c)"
      ],
      "execution_count": 34,
      "outputs": [
        {
          "output_type": "stream",
          "text": [
            "1 2 3\n"
          ],
          "name": "stdout"
        }
      ]
    },
    {
      "cell_type": "markdown",
      "metadata": {
        "id": "NTdIj75jYjW0"
      },
      "source": [
        "Below is a simple example to get user assign variable and program use the variable in calculation and finally print out result."
      ]
    },
    {
      "cell_type": "code",
      "metadata": {
        "id": "UgMso6rDV28V",
        "outputId": "8e93a2f8-584e-4bc0-e27e-90deac41375a",
        "colab": {
          "base_uri": "https://localhost:8080/"
        }
      },
      "source": [
        "#User input always return string. Rmb to convert to numeric for calculation\n",
        "travel_distance = input(\"How far is the distance in KM? \")\n",
        "time_taken = input(\"How long the whole journey take in hour? \")\n",
        "travel_distance_upt = float(travel_distance)\n",
        "time_taken_upt = float(time_taken)\n",
        "speed = travel_distance_upt / time_taken_upt\n",
        "print(\"Diving Speed per KM: \", str(speed), \" km per hour\")\n"
      ],
      "execution_count": 44,
      "outputs": [
        {
          "output_type": "stream",
          "text": [
            "How far is the distance in KM? 15.1036\n",
            "How long the whole journey take in hour? 0.35\n",
            "Diving Speed per KM:  43.15314285714286  km per hour\n"
          ],
          "name": "stdout"
        }
      ]
    },
    {
      "cell_type": "markdown",
      "metadata": {
        "id": "z431aKcHaPHl"
      },
      "source": [
        "An identifier can consist of upper and lowercase letters of alphabets, underscores, unicode identifiers and digit 0 to 9"
      ]
    },
    {
      "cell_type": "code",
      "metadata": {
        "id": "Y5Q1Rcv5X3ZG",
        "outputId": "4b8d793c-d6d9-4cd3-f66b-7d48ae0801b6",
        "colab": {
          "base_uri": "https://localhost:8080/"
        }
      },
      "source": [
        "#get help and exit with quit\n",
        "help()"
      ],
      "execution_count": 48,
      "outputs": [
        {
          "output_type": "stream",
          "text": [
            "\n",
            "Welcome to Python 3.6's help utility!\n",
            "\n",
            "If this is your first time using Python, you should definitely check out\n",
            "the tutorial on the Internet at https://docs.python.org/3.6/tutorial/.\n",
            "\n",
            "Enter the name of any module, keyword, or topic to get help on writing\n",
            "Python programs and using Python modules.  To quit this help utility and\n",
            "return to the interpreter, just type \"quit\".\n",
            "\n",
            "To get a list of available modules, keywords, symbols, or topics, type\n",
            "\"modules\", \"keywords\", \"symbols\", or \"topics\".  Each module also comes\n",
            "with a one-line summary of what it does; to list the modules whose name\n",
            "or summary contain a given string such as \"spam\", type \"modules spam\".\n",
            "\n",
            "help> keywords \n",
            "\n",
            "Here is a list of the Python keywords.  Enter any keyword to get more help.\n",
            "\n",
            "False               def                 if                  raise\n",
            "None                del                 import              return\n",
            "True                elif                in                  try\n",
            "and                 else                is                  while\n",
            "as                  except              lambda              with\n",
            "assert              finally             nonlocal            yield\n",
            "break               for                 not                 \n",
            "class               from                or                  \n",
            "continue            global              pass                \n",
            "\n",
            "help> quit\n",
            "\n",
            "You are now leaving help and returning to the Python interpreter.\n",
            "If you want to ask for help on a particular object directly from the\n",
            "interpreter, you can type \"help(object)\".  Executing \"help('string')\"\n",
            "has the same effect as typing a particular string at the help> prompt.\n"
          ],
          "name": "stdout"
        }
      ]
    },
    {
      "cell_type": "markdown",
      "metadata": {
        "id": "-3CbJvaGcgXs"
      },
      "source": [
        "Python naming convention\n",
        "1. Make the code easy to read and understand\n",
        "2. Enhance clarity and reduce anbiguity\n",
        "3. Make automated refactoring easier\n",
        "4. Provide additional information about the identifier\n",
        "5. Naming for constants written in capital\n"
      ]
    },
    {
      "cell_type": "markdown",
      "metadata": {
        "id": "dWANNGjAdmrL"
      },
      "source": [
        "Write a script to calculate the area and circumstance of a circle of radius of 7\n"
      ]
    },
    {
      "cell_type": "code",
      "metadata": {
        "id": "y9fKSvXPbiBO",
        "outputId": "dc40e583-4c07-488d-d3a1-04cae8152548",
        "colab": {
          "base_uri": "https://localhost:8080/"
        }
      },
      "source": [
        "r = 7\n",
        "pi = 3.14159\n",
        "area = pi * r**2\n",
        "circumstance = 2 * pi * r\n",
        "print(\"Area is \", area, \"and Circumstance is \", circumstance)"
      ],
      "execution_count": 51,
      "outputs": [
        {
          "output_type": "stream",
          "text": [
            "Area is  153.93791 and Circumstance is  43.98226\n"
          ],
          "name": "stdout"
        }
      ]
    },
    {
      "cell_type": "markdown",
      "metadata": {
        "id": "cZkJ38vnfWbz"
      },
      "source": [
        "User input message\n"
      ]
    },
    {
      "cell_type": "code",
      "metadata": {
        "id": "UHo8czRUbL-v",
        "outputId": "d0456179-7537-4a58-ef2b-b0ca8f4c42d4",
        "colab": {
          "base_uri": "https://localhost:8080/"
        }
      },
      "source": [
        "tongue_twitter=input(\"Entee a tongue twittee: \")\n",
        "print(tongue_twitter)"
      ],
      "execution_count": 54,
      "outputs": [
        {
          "output_type": "stream",
          "text": [
            "Entee a tongue twittee: US Election 2020\n",
            "US Election 2020\n"
          ],
          "name": "stdout"
        }
      ]
    },
    {
      "cell_type": "code",
      "metadata": {
        "id": "2h7ZbZSGf8TJ",
        "outputId": "cacb240d-7af5-49bb-f08e-068c2b68fba8",
        "colab": {
          "base_uri": "https://localhost:8080/"
        }
      },
      "source": [
        "#find square root\n",
        "number = int(input(\"Find the square root of: \"))\n",
        "print(\"The square root of\", \"is\", number**2)"
      ],
      "execution_count": 55,
      "outputs": [
        {
          "output_type": "stream",
          "text": [
            "Find the square root of: 5\n",
            "The square root of is 25\n"
          ],
          "name": "stdout"
        }
      ]
    },
    {
      "cell_type": "code",
      "metadata": {
        "id": "e7JEfJ0-hTYj",
        "outputId": "82281e70-4118-4110-e585-25fa3f5f7063",
        "colab": {
          "base_uri": "https://localhost:8080/"
        }
      },
      "source": [
        "#multiple assignment\n",
        "name,hobby = input(\"What is your name? \"), input(\"What is your hobby? \")\n",
        "print(name,\"likes to\",hobby)\n"
      ],
      "execution_count": 58,
      "outputs": [
        {
          "output_type": "stream",
          "text": [
            "What is your name? JM\n",
            "What is your hobby? Jogging\n",
            "JM likes to Jogging\n"
          ],
          "name": "stdout"
        }
      ]
    },
    {
      "cell_type": "code",
      "metadata": {
        "id": "TpheGySQix67"
      },
      "source": [
        ""
      ],
      "execution_count": 58,
      "outputs": []
    },
    {
      "cell_type": "markdown",
      "metadata": {
        "id": "MFiUUt9UkWQv"
      },
      "source": [
        "Block and Inline Comments start with a pound sign #"
      ]
    },
    {
      "cell_type": "markdown",
      "metadata": {
        "id": "e_onGqF4kmGf"
      },
      "source": [
        "Documentation Srring or docstring is a literal string used as Python comment. Wrapped within triple quotation marks \"\"\" or '''. They ared used to ducunent modules, functions and class definition."
      ]
    },
    {
      "cell_type": "markdown",
      "metadata": {
        "id": "ajwpkTLhnmP2"
      },
      "source": [
        "Indentation is a block - a group of statements that are meant to be executed together.It's the fundamental aspect of modern orogramming language since flow of control structures."
      ]
    },
    {
      "cell_type": "code",
      "metadata": {
        "id": "djCh_TGSkkg3",
        "outputId": "9efad9dc-875e-4c2a-c968-05e8bffd17d5",
        "colab": {
          "base_uri": "https://localhost:8080/"
        }
      },
      "source": [
        "\"\"\" The script can be called with two integer argument to return sum.\n",
        "Docstring supports multiple line \"\"\"\n",
        "\n",
        "num1 = 5\n",
        "num2 = 6\n",
        "print(num1,\"+\",num2,\"=\",num1+num2)\n"
      ],
      "execution_count": 67,
      "outputs": [
        {
          "output_type": "stream",
          "text": [
            "5 + 6 = 11\n"
          ],
          "name": "stdout"
        }
      ]
    }
  ]
}